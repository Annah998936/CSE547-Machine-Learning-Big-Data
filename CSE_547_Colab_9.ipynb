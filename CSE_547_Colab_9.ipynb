{
  "nbformat": 4,
  "nbformat_minor": 0,
  "metadata": {
    "colab": {
      "provenance": [],
      "include_colab_link": true
    },
    "kernelspec": {
      "name": "python3",
      "display_name": "Python 3"
    }
  },
  "cells": [
    {
      "cell_type": "markdown",
      "metadata": {
        "id": "view-in-github",
        "colab_type": "text"
      },
      "source": [
        "<a href=\"https://colab.research.google.com/github/Annah998936/CSE547-Machine-Learning-Big-Data/blob/main/CSE_547_Colab_9.ipynb\" target=\"_parent\"><img src=\"https://colab.research.google.com/assets/colab-badge.svg\" alt=\"Open In Colab\"/></a>"
      ]
    },
    {
      "cell_type": "markdown",
      "metadata": {
        "id": "y6elcu3cX2AO"
      },
      "source": [
        "#CSE 547 - Colab 9\n",
        "#Causal Inference"
      ]
    },
    {
      "cell_type": "markdown",
      "metadata": {
        "id": "LbKUYUumZr6i"
      },
      "source": [
        "# Set up"
      ]
    },
    {
      "cell_type": "markdown",
      "metadata": {
        "id": "PUUjUvXe3Sjk"
      },
      "source": [
        "Let's authenticate a Google Drive client to download the file we will be processing.\n",
        "\n",
        "**Make sure to follow the interactive instructions.**"
      ]
    },
    {
      "cell_type": "code",
      "metadata": {
        "id": "mW6NrbFLpDK1"
      },
      "source": [
        "!pip install -U -q PyDrive"
      ],
      "execution_count": 34,
      "outputs": []
    },
    {
      "cell_type": "code",
      "metadata": {
        "id": "lRElWs_x2mGh"
      },
      "source": [
        "from pydrive.auth import GoogleAuth\n",
        "from pydrive.drive import GoogleDrive\n",
        "from google.colab import auth\n",
        "from oauth2client.client import GoogleCredentials\n",
        "\n",
        "# Authenticate and create the PyDrive client\n",
        "auth.authenticate_user()\n",
        "gauth = GoogleAuth()\n",
        "gauth.credentials = GoogleCredentials.get_application_default()\n",
        "drive = GoogleDrive(gauth)"
      ],
      "execution_count": 35,
      "outputs": []
    },
    {
      "cell_type": "code",
      "metadata": {
        "id": "QHsFTGUy2n1c"
      },
      "source": [
        "id='1aJo6O3S5BBVT7QufADkejDGBkg0eY53R'\n",
        "downloaded = drive.CreateFile({'id': id})\n",
        "downloaded.GetContentFile('running.csv')"
      ],
      "execution_count": 36,
      "outputs": []
    },
    {
      "cell_type": "markdown",
      "metadata": {
        "id": "qwtlO4_m_LbQ"
      },
      "source": [
        "If you executed the cells above, you should be able to see the dataset we will use for this Colab under the \"Files\" tab on the left panel.\n",
        "\n",
        "Next, we import some of the common libraries for our task."
      ]
    },
    {
      "cell_type": "code",
      "metadata": {
        "id": "ZH2MGg81PCJb"
      },
      "source": [
        "import pandas as pd\n",
        "import numpy as np\n",
        "import warnings\n",
        "warnings.filterwarnings(\"ignore\")\n",
        "\n",
        "import statsmodels.api as sm\n",
        "from statsmodels.api import OLS\n",
        "from sklearn.neighbors import NearestNeighbors"
      ],
      "execution_count": 37,
      "outputs": []
    },
    {
      "cell_type": "markdown",
      "metadata": {
        "id": "v8HLb9yUr06Q"
      },
      "source": [
        "# Your Task"
      ]
    },
    {
      "cell_type": "markdown",
      "metadata": {
        "id": "f2fU4qlnYObP"
      },
      "source": [
        "In this colab, you will work on a fictitious data that aims to demonstrate some of the common challenges and mistakes in estimating the Average Treatment Effects (ATE). Below is the description of the fictitious data:"
      ]
    },
    {
      "cell_type": "markdown",
      "metadata": {
        "id": "Pef4_uwevT1b"
      },
      "source": [
        "*SuperShoes* Company recently released a new product named *Lightning Shoes*, and claimed that wearing the shoes will significantly speed up how fast a person can run. A skeptical researcher decided to conduct a study to test the credibility of this claim. To do this, he recruited 20,000 people who may or may not have bought the lightning shoes, and asked them to record how many meters they can sprint in one minute. For those who have bought the lightning shoes, they would need to wear the shoes to do the test run. The researcher also collected a variety of data on the participants' demographic and health-related information. The final sample the researcher obtained is the  **running.csv** dataset, with the following variables:\n",
        "\n",
        "*   **speed**: number of meters the participant runs in a minute.\n",
        "*   **lightning**: whether the participant wore the lightning shoes for the run. 1 = yes, 0 = no.\n",
        "*   **age**: age of the participant.\n",
        "*   **gender**: 1 = male, 0 = female.\n",
        "*   **veg**: 1 = vegetarian, 0 = non-vegetarian.\n",
        "*   **exercise**: exercise level on a scale of [1, 10]\n",
        "*   **muscle**: muscle level on a scale of [1, 10]\n",
        "*  **stress**: stress level on a scale of [1, 10]\n",
        "*   **heart**: heart rate that is recorded after the 1 minute run.\n",
        "\n",
        "We are interested in estimating the treatment effect of wearing the lightning shoes (i.e. the cause) on the speed people can run (i.e. the outcome).\n"
      ]
    },
    {
      "cell_type": "markdown",
      "metadata": {
        "id": "jyJ9g0seYEOF"
      },
      "source": [
        "# Data Overview"
      ]
    },
    {
      "cell_type": "code",
      "metadata": {
        "id": "NAt1neSme3cz"
      },
      "source": [
        "# load the data\n",
        "df = pd.read_csv(\"running.csv\")"
      ],
      "execution_count": 38,
      "outputs": []
    },
    {
      "cell_type": "code",
      "metadata": {
        "id": "y0yz4wBfygnp",
        "colab": {
          "base_uri": "https://localhost:8080/",
          "height": 300
        },
        "outputId": "bdb7171f-3400-4931-87be-6a6224e4bf5b"
      },
      "source": [
        "# have a view on the data\n",
        "df.describe()"
      ],
      "execution_count": 39,
      "outputs": [
        {
          "output_type": "execute_result",
          "data": {
            "text/plain": [
              "              speed     lightning           age        gender          veg  \\\n",
              "count  20000.000000  20000.000000  20000.000000  20000.000000  20000.00000   \n",
              "mean     300.318442      0.614750     36.503737      0.496950      0.78035   \n",
              "std       20.880921      0.486666     16.451748      0.500003      0.41402   \n",
              "min      241.601760      0.000000      8.000517      0.000000      0.00000   \n",
              "25%      284.695421      0.000000     22.404614      0.000000      1.00000   \n",
              "50%      300.321720      1.000000     36.385972      0.000000      1.00000   \n",
              "75%      315.880099      1.000000     50.703279      1.000000      1.00000   \n",
              "max      361.686005      1.000000     64.994626      1.000000      1.00000   \n",
              "\n",
              "           exercise        muscle        stress         heart  \n",
              "count  20000.000000  20000.000000  20000.000000  20000.000000  \n",
              "mean       4.995104      4.957283      4.979354    109.458008  \n",
              "std        2.893961      2.898828      2.888570      7.591382  \n",
              "min        0.000282      0.000086      0.000014     87.960925  \n",
              "25%        2.482666      2.418058      2.482338    103.777345  \n",
              "50%        4.993835      4.949709      4.965682    109.462160  \n",
              "75%        7.506822      7.471355      7.479032    115.135019  \n",
              "max        9.999747      9.999733      9.999641    131.888903  "
            ],
            "text/html": [
              "\n",
              "  <div id=\"df-259c0081-d6f1-44ec-ac77-17ceb8a4f589\" class=\"colab-df-container\">\n",
              "    <div>\n",
              "<style scoped>\n",
              "    .dataframe tbody tr th:only-of-type {\n",
              "        vertical-align: middle;\n",
              "    }\n",
              "\n",
              "    .dataframe tbody tr th {\n",
              "        vertical-align: top;\n",
              "    }\n",
              "\n",
              "    .dataframe thead th {\n",
              "        text-align: right;\n",
              "    }\n",
              "</style>\n",
              "<table border=\"1\" class=\"dataframe\">\n",
              "  <thead>\n",
              "    <tr style=\"text-align: right;\">\n",
              "      <th></th>\n",
              "      <th>speed</th>\n",
              "      <th>lightning</th>\n",
              "      <th>age</th>\n",
              "      <th>gender</th>\n",
              "      <th>veg</th>\n",
              "      <th>exercise</th>\n",
              "      <th>muscle</th>\n",
              "      <th>stress</th>\n",
              "      <th>heart</th>\n",
              "    </tr>\n",
              "  </thead>\n",
              "  <tbody>\n",
              "    <tr>\n",
              "      <th>count</th>\n",
              "      <td>20000.000000</td>\n",
              "      <td>20000.000000</td>\n",
              "      <td>20000.000000</td>\n",
              "      <td>20000.000000</td>\n",
              "      <td>20000.00000</td>\n",
              "      <td>20000.000000</td>\n",
              "      <td>20000.000000</td>\n",
              "      <td>20000.000000</td>\n",
              "      <td>20000.000000</td>\n",
              "    </tr>\n",
              "    <tr>\n",
              "      <th>mean</th>\n",
              "      <td>300.318442</td>\n",
              "      <td>0.614750</td>\n",
              "      <td>36.503737</td>\n",
              "      <td>0.496950</td>\n",
              "      <td>0.78035</td>\n",
              "      <td>4.995104</td>\n",
              "      <td>4.957283</td>\n",
              "      <td>4.979354</td>\n",
              "      <td>109.458008</td>\n",
              "    </tr>\n",
              "    <tr>\n",
              "      <th>std</th>\n",
              "      <td>20.880921</td>\n",
              "      <td>0.486666</td>\n",
              "      <td>16.451748</td>\n",
              "      <td>0.500003</td>\n",
              "      <td>0.41402</td>\n",
              "      <td>2.893961</td>\n",
              "      <td>2.898828</td>\n",
              "      <td>2.888570</td>\n",
              "      <td>7.591382</td>\n",
              "    </tr>\n",
              "    <tr>\n",
              "      <th>min</th>\n",
              "      <td>241.601760</td>\n",
              "      <td>0.000000</td>\n",
              "      <td>8.000517</td>\n",
              "      <td>0.000000</td>\n",
              "      <td>0.00000</td>\n",
              "      <td>0.000282</td>\n",
              "      <td>0.000086</td>\n",
              "      <td>0.000014</td>\n",
              "      <td>87.960925</td>\n",
              "    </tr>\n",
              "    <tr>\n",
              "      <th>25%</th>\n",
              "      <td>284.695421</td>\n",
              "      <td>0.000000</td>\n",
              "      <td>22.404614</td>\n",
              "      <td>0.000000</td>\n",
              "      <td>1.00000</td>\n",
              "      <td>2.482666</td>\n",
              "      <td>2.418058</td>\n",
              "      <td>2.482338</td>\n",
              "      <td>103.777345</td>\n",
              "    </tr>\n",
              "    <tr>\n",
              "      <th>50%</th>\n",
              "      <td>300.321720</td>\n",
              "      <td>1.000000</td>\n",
              "      <td>36.385972</td>\n",
              "      <td>0.000000</td>\n",
              "      <td>1.00000</td>\n",
              "      <td>4.993835</td>\n",
              "      <td>4.949709</td>\n",
              "      <td>4.965682</td>\n",
              "      <td>109.462160</td>\n",
              "    </tr>\n",
              "    <tr>\n",
              "      <th>75%</th>\n",
              "      <td>315.880099</td>\n",
              "      <td>1.000000</td>\n",
              "      <td>50.703279</td>\n",
              "      <td>1.000000</td>\n",
              "      <td>1.00000</td>\n",
              "      <td>7.506822</td>\n",
              "      <td>7.471355</td>\n",
              "      <td>7.479032</td>\n",
              "      <td>115.135019</td>\n",
              "    </tr>\n",
              "    <tr>\n",
              "      <th>max</th>\n",
              "      <td>361.686005</td>\n",
              "      <td>1.000000</td>\n",
              "      <td>64.994626</td>\n",
              "      <td>1.000000</td>\n",
              "      <td>1.00000</td>\n",
              "      <td>9.999747</td>\n",
              "      <td>9.999733</td>\n",
              "      <td>9.999641</td>\n",
              "      <td>131.888903</td>\n",
              "    </tr>\n",
              "  </tbody>\n",
              "</table>\n",
              "</div>\n",
              "    <div class=\"colab-df-buttons\">\n",
              "\n",
              "  <div class=\"colab-df-container\">\n",
              "    <button class=\"colab-df-convert\" onclick=\"convertToInteractive('df-259c0081-d6f1-44ec-ac77-17ceb8a4f589')\"\n",
              "            title=\"Convert this dataframe to an interactive table.\"\n",
              "            style=\"display:none;\">\n",
              "\n",
              "  <svg xmlns=\"http://www.w3.org/2000/svg\" height=\"24px\" viewBox=\"0 -960 960 960\">\n",
              "    <path d=\"M120-120v-720h720v720H120Zm60-500h600v-160H180v160Zm220 220h160v-160H400v160Zm0 220h160v-160H400v160ZM180-400h160v-160H180v160Zm440 0h160v-160H620v160ZM180-180h160v-160H180v160Zm440 0h160v-160H620v160Z\"/>\n",
              "  </svg>\n",
              "    </button>\n",
              "\n",
              "  <style>\n",
              "    .colab-df-container {\n",
              "      display:flex;\n",
              "      gap: 12px;\n",
              "    }\n",
              "\n",
              "    .colab-df-convert {\n",
              "      background-color: #E8F0FE;\n",
              "      border: none;\n",
              "      border-radius: 50%;\n",
              "      cursor: pointer;\n",
              "      display: none;\n",
              "      fill: #1967D2;\n",
              "      height: 32px;\n",
              "      padding: 0 0 0 0;\n",
              "      width: 32px;\n",
              "    }\n",
              "\n",
              "    .colab-df-convert:hover {\n",
              "      background-color: #E2EBFA;\n",
              "      box-shadow: 0px 1px 2px rgba(60, 64, 67, 0.3), 0px 1px 3px 1px rgba(60, 64, 67, 0.15);\n",
              "      fill: #174EA6;\n",
              "    }\n",
              "\n",
              "    .colab-df-buttons div {\n",
              "      margin-bottom: 4px;\n",
              "    }\n",
              "\n",
              "    [theme=dark] .colab-df-convert {\n",
              "      background-color: #3B4455;\n",
              "      fill: #D2E3FC;\n",
              "    }\n",
              "\n",
              "    [theme=dark] .colab-df-convert:hover {\n",
              "      background-color: #434B5C;\n",
              "      box-shadow: 0px 1px 3px 1px rgba(0, 0, 0, 0.15);\n",
              "      filter: drop-shadow(0px 1px 2px rgba(0, 0, 0, 0.3));\n",
              "      fill: #FFFFFF;\n",
              "    }\n",
              "  </style>\n",
              "\n",
              "    <script>\n",
              "      const buttonEl =\n",
              "        document.querySelector('#df-259c0081-d6f1-44ec-ac77-17ceb8a4f589 button.colab-df-convert');\n",
              "      buttonEl.style.display =\n",
              "        google.colab.kernel.accessAllowed ? 'block' : 'none';\n",
              "\n",
              "      async function convertToInteractive(key) {\n",
              "        const element = document.querySelector('#df-259c0081-d6f1-44ec-ac77-17ceb8a4f589');\n",
              "        const dataTable =\n",
              "          await google.colab.kernel.invokeFunction('convertToInteractive',\n",
              "                                                    [key], {});\n",
              "        if (!dataTable) return;\n",
              "\n",
              "        const docLinkHtml = 'Like what you see? Visit the ' +\n",
              "          '<a target=\"_blank\" href=https://colab.research.google.com/notebooks/data_table.ipynb>data table notebook</a>'\n",
              "          + ' to learn more about interactive tables.';\n",
              "        element.innerHTML = '';\n",
              "        dataTable['output_type'] = 'display_data';\n",
              "        await google.colab.output.renderOutput(dataTable, element);\n",
              "        const docLink = document.createElement('div');\n",
              "        docLink.innerHTML = docLinkHtml;\n",
              "        element.appendChild(docLink);\n",
              "      }\n",
              "    </script>\n",
              "  </div>\n",
              "\n",
              "\n",
              "<div id=\"df-9b292cdd-a3d9-4165-b0ff-181c9a7e228a\">\n",
              "  <button class=\"colab-df-quickchart\" onclick=\"quickchart('df-9b292cdd-a3d9-4165-b0ff-181c9a7e228a')\"\n",
              "            title=\"Suggest charts\"\n",
              "            style=\"display:none;\">\n",
              "\n",
              "<svg xmlns=\"http://www.w3.org/2000/svg\" height=\"24px\"viewBox=\"0 0 24 24\"\n",
              "     width=\"24px\">\n",
              "    <g>\n",
              "        <path d=\"M19 3H5c-1.1 0-2 .9-2 2v14c0 1.1.9 2 2 2h14c1.1 0 2-.9 2-2V5c0-1.1-.9-2-2-2zM9 17H7v-7h2v7zm4 0h-2V7h2v10zm4 0h-2v-4h2v4z\"/>\n",
              "    </g>\n",
              "</svg>\n",
              "  </button>\n",
              "\n",
              "<style>\n",
              "  .colab-df-quickchart {\n",
              "      --bg-color: #E8F0FE;\n",
              "      --fill-color: #1967D2;\n",
              "      --hover-bg-color: #E2EBFA;\n",
              "      --hover-fill-color: #174EA6;\n",
              "      --disabled-fill-color: #AAA;\n",
              "      --disabled-bg-color: #DDD;\n",
              "  }\n",
              "\n",
              "  [theme=dark] .colab-df-quickchart {\n",
              "      --bg-color: #3B4455;\n",
              "      --fill-color: #D2E3FC;\n",
              "      --hover-bg-color: #434B5C;\n",
              "      --hover-fill-color: #FFFFFF;\n",
              "      --disabled-bg-color: #3B4455;\n",
              "      --disabled-fill-color: #666;\n",
              "  }\n",
              "\n",
              "  .colab-df-quickchart {\n",
              "    background-color: var(--bg-color);\n",
              "    border: none;\n",
              "    border-radius: 50%;\n",
              "    cursor: pointer;\n",
              "    display: none;\n",
              "    fill: var(--fill-color);\n",
              "    height: 32px;\n",
              "    padding: 0;\n",
              "    width: 32px;\n",
              "  }\n",
              "\n",
              "  .colab-df-quickchart:hover {\n",
              "    background-color: var(--hover-bg-color);\n",
              "    box-shadow: 0 1px 2px rgba(60, 64, 67, 0.3), 0 1px 3px 1px rgba(60, 64, 67, 0.15);\n",
              "    fill: var(--button-hover-fill-color);\n",
              "  }\n",
              "\n",
              "  .colab-df-quickchart-complete:disabled,\n",
              "  .colab-df-quickchart-complete:disabled:hover {\n",
              "    background-color: var(--disabled-bg-color);\n",
              "    fill: var(--disabled-fill-color);\n",
              "    box-shadow: none;\n",
              "  }\n",
              "\n",
              "  .colab-df-spinner {\n",
              "    border: 2px solid var(--fill-color);\n",
              "    border-color: transparent;\n",
              "    border-bottom-color: var(--fill-color);\n",
              "    animation:\n",
              "      spin 1s steps(1) infinite;\n",
              "  }\n",
              "\n",
              "  @keyframes spin {\n",
              "    0% {\n",
              "      border-color: transparent;\n",
              "      border-bottom-color: var(--fill-color);\n",
              "      border-left-color: var(--fill-color);\n",
              "    }\n",
              "    20% {\n",
              "      border-color: transparent;\n",
              "      border-left-color: var(--fill-color);\n",
              "      border-top-color: var(--fill-color);\n",
              "    }\n",
              "    30% {\n",
              "      border-color: transparent;\n",
              "      border-left-color: var(--fill-color);\n",
              "      border-top-color: var(--fill-color);\n",
              "      border-right-color: var(--fill-color);\n",
              "    }\n",
              "    40% {\n",
              "      border-color: transparent;\n",
              "      border-right-color: var(--fill-color);\n",
              "      border-top-color: var(--fill-color);\n",
              "    }\n",
              "    60% {\n",
              "      border-color: transparent;\n",
              "      border-right-color: var(--fill-color);\n",
              "    }\n",
              "    80% {\n",
              "      border-color: transparent;\n",
              "      border-right-color: var(--fill-color);\n",
              "      border-bottom-color: var(--fill-color);\n",
              "    }\n",
              "    90% {\n",
              "      border-color: transparent;\n",
              "      border-bottom-color: var(--fill-color);\n",
              "    }\n",
              "  }\n",
              "</style>\n",
              "\n",
              "  <script>\n",
              "    async function quickchart(key) {\n",
              "      const quickchartButtonEl =\n",
              "        document.querySelector('#' + key + ' button');\n",
              "      quickchartButtonEl.disabled = true;  // To prevent multiple clicks.\n",
              "      quickchartButtonEl.classList.add('colab-df-spinner');\n",
              "      try {\n",
              "        const charts = await google.colab.kernel.invokeFunction(\n",
              "            'suggestCharts', [key], {});\n",
              "      } catch (error) {\n",
              "        console.error('Error during call to suggestCharts:', error);\n",
              "      }\n",
              "      quickchartButtonEl.classList.remove('colab-df-spinner');\n",
              "      quickchartButtonEl.classList.add('colab-df-quickchart-complete');\n",
              "    }\n",
              "    (() => {\n",
              "      let quickchartButtonEl =\n",
              "        document.querySelector('#df-9b292cdd-a3d9-4165-b0ff-181c9a7e228a button');\n",
              "      quickchartButtonEl.style.display =\n",
              "        google.colab.kernel.accessAllowed ? 'block' : 'none';\n",
              "    })();\n",
              "  </script>\n",
              "</div>\n",
              "    </div>\n",
              "  </div>\n"
            ],
            "application/vnd.google.colaboratory.intrinsic+json": {
              "type": "dataframe",
              "summary": "{\n  \"name\": \"df\",\n  \"rows\": 8,\n  \"fields\": [\n    {\n      \"column\": \"speed\",\n      \"properties\": {\n        \"dtype\": \"number\",\n        \"std\": 6979.637883164111,\n        \"min\": 20.880921049287217,\n        \"max\": 20000.0,\n        \"num_unique_values\": 8,\n        \"samples\": [\n          300.31844164963456,\n          300.3217198526146,\n          20000.0\n        ],\n        \"semantic_type\": \"\",\n        \"description\": \"\"\n      }\n    },\n    {\n      \"column\": \"lightning\",\n      \"properties\": {\n        \"dtype\": \"number\",\n        \"std\": 7070.860671290028,\n        \"min\": 0.0,\n        \"max\": 20000.0,\n        \"num_unique_values\": 5,\n        \"samples\": [\n          0.61475,\n          1.0,\n          0.48666649742301527\n        ],\n        \"semantic_type\": \"\",\n        \"description\": \"\"\n      }\n    },\n    {\n      \"column\": \"age\",\n      \"properties\": {\n        \"dtype\": \"number\",\n        \"std\": 7059.2000406178295,\n        \"min\": 8.000517114922944,\n        \"max\": 20000.0,\n        \"num_unique_values\": 8,\n        \"samples\": [\n          36.50373733711814,\n          36.38597165795177,\n          20000.0\n        ],\n        \"semantic_type\": \"\",\n        \"description\": \"\"\n      }\n    },\n    {\n      \"column\": \"gender\",\n      \"properties\": {\n        \"dtype\": \"number\",\n        \"std\": 7070.916455132635,\n        \"min\": 0.0,\n        \"max\": 20000.0,\n        \"num_unique_values\": 5,\n        \"samples\": [\n          0.49695,\n          1.0,\n          0.5000031976496581\n        ],\n        \"semantic_type\": \"\",\n        \"description\": \"\"\n      }\n    },\n    {\n      \"column\": \"veg\",\n      \"properties\": {\n        \"dtype\": \"number\",\n        \"std\": 7070.805465921644,\n        \"min\": 0.0,\n        \"max\": 20000.0,\n        \"num_unique_values\": 5,\n        \"samples\": [\n          0.78035,\n          1.0,\n          0.4140198644055694\n        ],\n        \"semantic_type\": \"\",\n        \"description\": \"\"\n      }\n    },\n    {\n      \"column\": \"exercise\",\n      \"properties\": {\n        \"dtype\": \"number\",\n        \"std\": 7069.408175062477,\n        \"min\": 0.0002816482942969,\n        \"max\": 20000.0,\n        \"num_unique_values\": 8,\n        \"samples\": [\n          4.995104275005403,\n          4.993834596251867,\n          20000.0\n        ],\n        \"semantic_type\": \"\",\n        \"description\": \"\"\n      }\n    },\n    {\n      \"column\": \"muscle\",\n      \"properties\": {\n        \"dtype\": \"number\",\n        \"std\": 7069.417133518254,\n        \"min\": 8.59462020275e-05,\n        \"max\": 20000.0,\n        \"num_unique_values\": 8,\n        \"samples\": [\n          4.9572834004349815,\n          4.949708813930792,\n          20000.0\n        ],\n        \"semantic_type\": \"\",\n        \"description\": \"\"\n      }\n    },\n    {\n      \"column\": \"stress\",\n      \"properties\": {\n        \"dtype\": \"number\",\n        \"std\": 7069.412102215982,\n        \"min\": 1.42304053308e-05,\n        \"max\": 20000.0,\n        \"num_unique_values\": 8,\n        \"samples\": [\n          4.979354435475726,\n          4.965681769570748,\n          20000.0\n        ],\n        \"semantic_type\": \"\",\n        \"description\": \"\"\n      }\n    },\n    {\n      \"column\": \"heart\",\n      \"properties\": {\n        \"dtype\": \"number\",\n        \"std\": 7037.567415699428,\n        \"min\": 7.591382180689569,\n        \"max\": 20000.0,\n        \"num_unique_values\": 8,\n        \"samples\": [\n          109.45800821373898,\n          109.4621597271665,\n          20000.0\n        ],\n        \"semantic_type\": \"\",\n        \"description\": \"\"\n      }\n    }\n  ]\n}"
            }
          },
          "metadata": {},
          "execution_count": 39
        }
      ]
    },
    {
      "cell_type": "markdown",
      "metadata": {
        "id": "HxYnUk24IV3P"
      },
      "source": [
        "## Q1: Calculate the unadjusted ATE.  "
      ]
    },
    {
      "cell_type": "markdown",
      "metadata": {
        "id": "f_exoe9kfjQ5"
      },
      "source": [
        "First, calculate the difference in the average speed between people who wear the lightning shoes (i.e. treatment group) and people do not (i.e. control group). Let's call this the unadjusted ATE. **Report the unadjusted ATE rounded to 3 decimal places.**   \n"
      ]
    },
    {
      "cell_type": "code",
      "metadata": {
        "id": "8VW2WkcVJmYP",
        "colab": {
          "base_uri": "https://localhost:8080/"
        },
        "outputId": "58d1d44d-c42f-48f4-f091-2c42f987d048"
      },
      "source": [
        "# YOUR CODE HERE\n",
        "\n",
        "# Separate the groups\n",
        "treatment_group = df[df['lightning'] == 1]\n",
        "control_group = df[df['lightning'] == 0]\n",
        "\n",
        "# Calculate the average speed for each group\n",
        "average_speed_treatment = treatment_group['speed'].mean()\n",
        "average_speed_control = control_group['speed'].mean()\n",
        "\n",
        "# Compute the unadjusted ATE\n",
        "unadjusted_ATE = average_speed_treatment - average_speed_control\n",
        "unadjusted_ATE"
      ],
      "execution_count": 40,
      "outputs": [
        {
          "output_type": "execute_result",
          "data": {
            "text/plain": [
              "-0.8761375557055544"
            ]
          },
          "metadata": {},
          "execution_count": 40
        }
      ]
    },
    {
      "cell_type": "markdown",
      "metadata": {
        "id": "JLIxLwoxhsPQ"
      },
      "source": [
        "We can obtain the same result by running a simple linear regression where the independent variable is the treatment status (i.e. whether the participant wears the lightning shoes or not), and the outcome variable is the speed of running. The **OLS_estimate()** below uses the [statsmodels API](https://www.statsmodels.org/stable/index.html) to perform the linear regressions. Check whether the coefficient on lightning is the same as what you have obtained in Q1."
      ]
    },
    {
      "cell_type": "code",
      "metadata": {
        "id": "sFF8u1mH5upb",
        "colab": {
          "base_uri": "https://localhost:8080/"
        },
        "outputId": "989aee9e-e972-47a9-8358-687741678aa3"
      },
      "source": [
        "def OLS_estimate(outcome, covariates):\n",
        "    covariates = sm.add_constant(covariates) # adding a constant\n",
        "    model = OLS(outcome, covariates)\n",
        "    result = model.fit()\n",
        "    print(result.summary())\n",
        "\n",
        "OLS_estimate(df['speed'], df[['lightning']])"
      ],
      "execution_count": 41,
      "outputs": [
        {
          "output_type": "stream",
          "name": "stdout",
          "text": [
            "                            OLS Regression Results                            \n",
            "==============================================================================\n",
            "Dep. Variable:                  speed   R-squared:                       0.000\n",
            "Model:                            OLS   Adj. R-squared:                  0.000\n",
            "Method:                 Least Squares   F-statistic:                     8.342\n",
            "Date:                Thu, 23 May 2024   Prob (F-statistic):            0.00388\n",
            "Time:                        19:08:41   Log-Likelihood:                -89151.\n",
            "No. Observations:               20000   AIC:                         1.783e+05\n",
            "Df Residuals:                   19998   BIC:                         1.783e+05\n",
            "Df Model:                           1                                         \n",
            "Covariance Type:            nonrobust                                         \n",
            "==============================================================================\n",
            "                 coef    std err          t      P>|t|      [0.025      0.975]\n",
            "------------------------------------------------------------------------------\n",
            "const        300.8570      0.238   1264.959      0.000     300.391     301.323\n",
            "lightning     -0.8761      0.303     -2.888      0.004      -1.471      -0.282\n",
            "==============================================================================\n",
            "Omnibus:                      662.592   Durbin-Watson:                   2.024\n",
            "Prob(Omnibus):                  0.000   Jarque-Bera (JB):              304.934\n",
            "Skew:                           0.008   Prob(JB):                     6.09e-67\n",
            "Kurtosis:                       2.395   Cond. No.                         2.98\n",
            "==============================================================================\n",
            "\n",
            "Notes:\n",
            "[1] Standard Errors assume that the covariance matrix of the errors is correctly specified.\n"
          ]
        }
      ]
    },
    {
      "cell_type": "markdown",
      "metadata": {
        "id": "_vvHV2x8k38S"
      },
      "source": [
        "The result so far shows that there is a statistically significant yet relatively small effect of wearing the shoes, but the unadjusted ATE is negative, suggesting the shoes make you slower! However, this result is most likely biased. In fact, the true effect is known to be 10. What has gone wrong?"
      ]
    },
    {
      "cell_type": "markdown",
      "metadata": {
        "id": "GLLNGZ8eKPMf"
      },
      "source": [
        "The main problem here is that people who choose to obtain the shoes are different from people who choose not to obtain the lightning shoes. This is called the **selection bias**, where people *select themselves into the treatment group* due to some other factors that also affect how fast they can run. Those factors are called the **confounders**. To see this, let's calculate the sample averages of the covariates between the two groups.   \n",
        "\n"
      ]
    },
    {
      "cell_type": "code",
      "metadata": {
        "id": "hYksHRw0NvnZ",
        "colab": {
          "base_uri": "https://localhost:8080/",
          "height": 175
        },
        "outputId": "8bf94884-7a36-40a8-96f1-4dc1b7267ba6"
      },
      "source": [
        "df.groupby('lightning')[['exercise', 'age', 'stress', 'gender', 'muscle', 'veg', 'heart']].agg(['mean'])\n"
      ],
      "execution_count": 42,
      "outputs": [
        {
          "output_type": "execute_result",
          "data": {
            "text/plain": [
              "           exercise        age    stress    gender    muscle       veg  \\\n",
              "               mean       mean      mean      mean      mean      mean   \n",
              "lightning                                                                \n",
              "0          5.925047  27.192573  4.964066  0.491629  5.609706  0.812589   \n",
              "1          4.412330  42.338834  4.988935  0.500285  4.548425  0.760146   \n",
              "\n",
              "                heart  \n",
              "                 mean  \n",
              "lightning              \n",
              "0          109.402687  \n",
              "1          109.492677  "
            ],
            "text/html": [
              "\n",
              "  <div id=\"df-63bbcd85-9b85-4e65-9d28-1de618449a9a\" class=\"colab-df-container\">\n",
              "    <div>\n",
              "<style scoped>\n",
              "    .dataframe tbody tr th:only-of-type {\n",
              "        vertical-align: middle;\n",
              "    }\n",
              "\n",
              "    .dataframe tbody tr th {\n",
              "        vertical-align: top;\n",
              "    }\n",
              "\n",
              "    .dataframe thead tr th {\n",
              "        text-align: left;\n",
              "    }\n",
              "\n",
              "    .dataframe thead tr:last-of-type th {\n",
              "        text-align: right;\n",
              "    }\n",
              "</style>\n",
              "<table border=\"1\" class=\"dataframe\">\n",
              "  <thead>\n",
              "    <tr>\n",
              "      <th></th>\n",
              "      <th>exercise</th>\n",
              "      <th>age</th>\n",
              "      <th>stress</th>\n",
              "      <th>gender</th>\n",
              "      <th>muscle</th>\n",
              "      <th>veg</th>\n",
              "      <th>heart</th>\n",
              "    </tr>\n",
              "    <tr>\n",
              "      <th></th>\n",
              "      <th>mean</th>\n",
              "      <th>mean</th>\n",
              "      <th>mean</th>\n",
              "      <th>mean</th>\n",
              "      <th>mean</th>\n",
              "      <th>mean</th>\n",
              "      <th>mean</th>\n",
              "    </tr>\n",
              "    <tr>\n",
              "      <th>lightning</th>\n",
              "      <th></th>\n",
              "      <th></th>\n",
              "      <th></th>\n",
              "      <th></th>\n",
              "      <th></th>\n",
              "      <th></th>\n",
              "      <th></th>\n",
              "    </tr>\n",
              "  </thead>\n",
              "  <tbody>\n",
              "    <tr>\n",
              "      <th>0</th>\n",
              "      <td>5.925047</td>\n",
              "      <td>27.192573</td>\n",
              "      <td>4.964066</td>\n",
              "      <td>0.491629</td>\n",
              "      <td>5.609706</td>\n",
              "      <td>0.812589</td>\n",
              "      <td>109.402687</td>\n",
              "    </tr>\n",
              "    <tr>\n",
              "      <th>1</th>\n",
              "      <td>4.412330</td>\n",
              "      <td>42.338834</td>\n",
              "      <td>4.988935</td>\n",
              "      <td>0.500285</td>\n",
              "      <td>4.548425</td>\n",
              "      <td>0.760146</td>\n",
              "      <td>109.492677</td>\n",
              "    </tr>\n",
              "  </tbody>\n",
              "</table>\n",
              "</div>\n",
              "    <div class=\"colab-df-buttons\">\n",
              "\n",
              "  <div class=\"colab-df-container\">\n",
              "    <button class=\"colab-df-convert\" onclick=\"convertToInteractive('df-63bbcd85-9b85-4e65-9d28-1de618449a9a')\"\n",
              "            title=\"Convert this dataframe to an interactive table.\"\n",
              "            style=\"display:none;\">\n",
              "\n",
              "  <svg xmlns=\"http://www.w3.org/2000/svg\" height=\"24px\" viewBox=\"0 -960 960 960\">\n",
              "    <path d=\"M120-120v-720h720v720H120Zm60-500h600v-160H180v160Zm220 220h160v-160H400v160Zm0 220h160v-160H400v160ZM180-400h160v-160H180v160Zm440 0h160v-160H620v160ZM180-180h160v-160H180v160Zm440 0h160v-160H620v160Z\"/>\n",
              "  </svg>\n",
              "    </button>\n",
              "\n",
              "  <style>\n",
              "    .colab-df-container {\n",
              "      display:flex;\n",
              "      gap: 12px;\n",
              "    }\n",
              "\n",
              "    .colab-df-convert {\n",
              "      background-color: #E8F0FE;\n",
              "      border: none;\n",
              "      border-radius: 50%;\n",
              "      cursor: pointer;\n",
              "      display: none;\n",
              "      fill: #1967D2;\n",
              "      height: 32px;\n",
              "      padding: 0 0 0 0;\n",
              "      width: 32px;\n",
              "    }\n",
              "\n",
              "    .colab-df-convert:hover {\n",
              "      background-color: #E2EBFA;\n",
              "      box-shadow: 0px 1px 2px rgba(60, 64, 67, 0.3), 0px 1px 3px 1px rgba(60, 64, 67, 0.15);\n",
              "      fill: #174EA6;\n",
              "    }\n",
              "\n",
              "    .colab-df-buttons div {\n",
              "      margin-bottom: 4px;\n",
              "    }\n",
              "\n",
              "    [theme=dark] .colab-df-convert {\n",
              "      background-color: #3B4455;\n",
              "      fill: #D2E3FC;\n",
              "    }\n",
              "\n",
              "    [theme=dark] .colab-df-convert:hover {\n",
              "      background-color: #434B5C;\n",
              "      box-shadow: 0px 1px 3px 1px rgba(0, 0, 0, 0.15);\n",
              "      filter: drop-shadow(0px 1px 2px rgba(0, 0, 0, 0.3));\n",
              "      fill: #FFFFFF;\n",
              "    }\n",
              "  </style>\n",
              "\n",
              "    <script>\n",
              "      const buttonEl =\n",
              "        document.querySelector('#df-63bbcd85-9b85-4e65-9d28-1de618449a9a button.colab-df-convert');\n",
              "      buttonEl.style.display =\n",
              "        google.colab.kernel.accessAllowed ? 'block' : 'none';\n",
              "\n",
              "      async function convertToInteractive(key) {\n",
              "        const element = document.querySelector('#df-63bbcd85-9b85-4e65-9d28-1de618449a9a');\n",
              "        const dataTable =\n",
              "          await google.colab.kernel.invokeFunction('convertToInteractive',\n",
              "                                                    [key], {});\n",
              "        if (!dataTable) return;\n",
              "\n",
              "        const docLinkHtml = 'Like what you see? Visit the ' +\n",
              "          '<a target=\"_blank\" href=https://colab.research.google.com/notebooks/data_table.ipynb>data table notebook</a>'\n",
              "          + ' to learn more about interactive tables.';\n",
              "        element.innerHTML = '';\n",
              "        dataTable['output_type'] = 'display_data';\n",
              "        await google.colab.output.renderOutput(dataTable, element);\n",
              "        const docLink = document.createElement('div');\n",
              "        docLink.innerHTML = docLinkHtml;\n",
              "        element.appendChild(docLink);\n",
              "      }\n",
              "    </script>\n",
              "  </div>\n",
              "\n",
              "\n",
              "<div id=\"df-97ea2b2a-3881-42af-a9ba-486f0df8db8f\">\n",
              "  <button class=\"colab-df-quickchart\" onclick=\"quickchart('df-97ea2b2a-3881-42af-a9ba-486f0df8db8f')\"\n",
              "            title=\"Suggest charts\"\n",
              "            style=\"display:none;\">\n",
              "\n",
              "<svg xmlns=\"http://www.w3.org/2000/svg\" height=\"24px\"viewBox=\"0 0 24 24\"\n",
              "     width=\"24px\">\n",
              "    <g>\n",
              "        <path d=\"M19 3H5c-1.1 0-2 .9-2 2v14c0 1.1.9 2 2 2h14c1.1 0 2-.9 2-2V5c0-1.1-.9-2-2-2zM9 17H7v-7h2v7zm4 0h-2V7h2v10zm4 0h-2v-4h2v4z\"/>\n",
              "    </g>\n",
              "</svg>\n",
              "  </button>\n",
              "\n",
              "<style>\n",
              "  .colab-df-quickchart {\n",
              "      --bg-color: #E8F0FE;\n",
              "      --fill-color: #1967D2;\n",
              "      --hover-bg-color: #E2EBFA;\n",
              "      --hover-fill-color: #174EA6;\n",
              "      --disabled-fill-color: #AAA;\n",
              "      --disabled-bg-color: #DDD;\n",
              "  }\n",
              "\n",
              "  [theme=dark] .colab-df-quickchart {\n",
              "      --bg-color: #3B4455;\n",
              "      --fill-color: #D2E3FC;\n",
              "      --hover-bg-color: #434B5C;\n",
              "      --hover-fill-color: #FFFFFF;\n",
              "      --disabled-bg-color: #3B4455;\n",
              "      --disabled-fill-color: #666;\n",
              "  }\n",
              "\n",
              "  .colab-df-quickchart {\n",
              "    background-color: var(--bg-color);\n",
              "    border: none;\n",
              "    border-radius: 50%;\n",
              "    cursor: pointer;\n",
              "    display: none;\n",
              "    fill: var(--fill-color);\n",
              "    height: 32px;\n",
              "    padding: 0;\n",
              "    width: 32px;\n",
              "  }\n",
              "\n",
              "  .colab-df-quickchart:hover {\n",
              "    background-color: var(--hover-bg-color);\n",
              "    box-shadow: 0 1px 2px rgba(60, 64, 67, 0.3), 0 1px 3px 1px rgba(60, 64, 67, 0.15);\n",
              "    fill: var(--button-hover-fill-color);\n",
              "  }\n",
              "\n",
              "  .colab-df-quickchart-complete:disabled,\n",
              "  .colab-df-quickchart-complete:disabled:hover {\n",
              "    background-color: var(--disabled-bg-color);\n",
              "    fill: var(--disabled-fill-color);\n",
              "    box-shadow: none;\n",
              "  }\n",
              "\n",
              "  .colab-df-spinner {\n",
              "    border: 2px solid var(--fill-color);\n",
              "    border-color: transparent;\n",
              "    border-bottom-color: var(--fill-color);\n",
              "    animation:\n",
              "      spin 1s steps(1) infinite;\n",
              "  }\n",
              "\n",
              "  @keyframes spin {\n",
              "    0% {\n",
              "      border-color: transparent;\n",
              "      border-bottom-color: var(--fill-color);\n",
              "      border-left-color: var(--fill-color);\n",
              "    }\n",
              "    20% {\n",
              "      border-color: transparent;\n",
              "      border-left-color: var(--fill-color);\n",
              "      border-top-color: var(--fill-color);\n",
              "    }\n",
              "    30% {\n",
              "      border-color: transparent;\n",
              "      border-left-color: var(--fill-color);\n",
              "      border-top-color: var(--fill-color);\n",
              "      border-right-color: var(--fill-color);\n",
              "    }\n",
              "    40% {\n",
              "      border-color: transparent;\n",
              "      border-right-color: var(--fill-color);\n",
              "      border-top-color: var(--fill-color);\n",
              "    }\n",
              "    60% {\n",
              "      border-color: transparent;\n",
              "      border-right-color: var(--fill-color);\n",
              "    }\n",
              "    80% {\n",
              "      border-color: transparent;\n",
              "      border-right-color: var(--fill-color);\n",
              "      border-bottom-color: var(--fill-color);\n",
              "    }\n",
              "    90% {\n",
              "      border-color: transparent;\n",
              "      border-bottom-color: var(--fill-color);\n",
              "    }\n",
              "  }\n",
              "</style>\n",
              "\n",
              "  <script>\n",
              "    async function quickchart(key) {\n",
              "      const quickchartButtonEl =\n",
              "        document.querySelector('#' + key + ' button');\n",
              "      quickchartButtonEl.disabled = true;  // To prevent multiple clicks.\n",
              "      quickchartButtonEl.classList.add('colab-df-spinner');\n",
              "      try {\n",
              "        const charts = await google.colab.kernel.invokeFunction(\n",
              "            'suggestCharts', [key], {});\n",
              "      } catch (error) {\n",
              "        console.error('Error during call to suggestCharts:', error);\n",
              "      }\n",
              "      quickchartButtonEl.classList.remove('colab-df-spinner');\n",
              "      quickchartButtonEl.classList.add('colab-df-quickchart-complete');\n",
              "    }\n",
              "    (() => {\n",
              "      let quickchartButtonEl =\n",
              "        document.querySelector('#df-97ea2b2a-3881-42af-a9ba-486f0df8db8f button');\n",
              "      quickchartButtonEl.style.display =\n",
              "        google.colab.kernel.accessAllowed ? 'block' : 'none';\n",
              "    })();\n",
              "  </script>\n",
              "</div>\n",
              "    </div>\n",
              "  </div>\n"
            ],
            "application/vnd.google.colaboratory.intrinsic+json": {
              "type": "dataframe",
              "summary": "{\n  \"name\": \"df\",\n  \"rows\": 2,\n  \"fields\": [\n    {\n      \"column\": [\n        \"lightning\",\n        \"\"\n      ],\n      \"properties\": {\n        \"dtype\": \"number\",\n        \"std\": 0,\n        \"min\": 0,\n        \"max\": 1,\n        \"num_unique_values\": 2,\n        \"samples\": [\n          1,\n          0\n        ],\n        \"semantic_type\": \"\",\n        \"description\": \"\"\n      }\n    },\n    {\n      \"column\": [\n        \"exercise\",\n        \"mean\"\n      ],\n      \"properties\": {\n        \"dtype\": \"number\",\n        \"std\": 1.0696524692016482,\n        \"min\": 4.412330039594386,\n        \"max\": 5.925047068565227,\n        \"num_unique_values\": 2,\n        \"samples\": [\n          4.412330039594386,\n          5.925047068565227\n        ],\n        \"semantic_type\": \"\",\n        \"description\": \"\"\n      }\n    },\n    {\n      \"column\": [\n        \"age\",\n        \"mean\"\n      ],\n      \"properties\": {\n        \"dtype\": \"number\",\n        \"std\": 10.710023863649607,\n        \"min\": 27.19257338656111,\n        \"max\": 42.33883438787388,\n        \"num_unique_values\": 2,\n        \"samples\": [\n          42.33883438787388,\n          27.19257338656111\n        ],\n        \"semantic_type\": \"\",\n        \"description\": \"\"\n      }\n    },\n    {\n      \"column\": [\n        \"stress\",\n        \"mean\"\n      ],\n      \"properties\": {\n        \"dtype\": \"number\",\n        \"std\": 0.01758494108091047,\n        \"min\": 4.964066302456623,\n        \"max\": 4.9889351646267786,\n        \"num_unique_values\": 2,\n        \"samples\": [\n          4.9889351646267786,\n          4.964066302456623\n        ],\n        \"semantic_type\": \"\",\n        \"description\": \"\"\n      }\n    },\n    {\n      \"column\": [\n        \"gender\",\n        \"mean\"\n      ],\n      \"properties\": {\n        \"dtype\": \"number\",\n        \"std\": 0.00612061454883121,\n        \"min\": 0.4916288124594419,\n        \"max\": 0.5002846685644571,\n        \"num_unique_values\": 2,\n        \"samples\": [\n          0.5002846685644571,\n          0.4916288124594419\n        ],\n        \"semantic_type\": \"\",\n        \"description\": \"\"\n      }\n    },\n    {\n      \"column\": [\n        \"muscle\",\n        \"mean\"\n      ],\n      \"properties\": {\n        \"dtype\": \"number\",\n        \"std\": 0.750438994393007,\n        \"min\": 4.548424893796456,\n        \"max\": 5.609705897400674,\n        \"num_unique_values\": 2,\n        \"samples\": [\n          4.548424893796456,\n          5.609705897400674\n        ],\n        \"semantic_type\": \"\",\n        \"description\": \"\"\n      }\n    },\n    {\n      \"column\": [\n        \"veg\",\n        \"mean\"\n      ],\n      \"properties\": {\n        \"dtype\": \"number\",\n        \"std\": 0.03708267845357488,\n        \"min\": 0.7601464009760065,\n        \"max\": 0.8125892277741726,\n        \"num_unique_values\": 2,\n        \"samples\": [\n          0.7601464009760065,\n          0.8125892277741726\n        ],\n        \"semantic_type\": \"\",\n        \"description\": \"\"\n      }\n    },\n    {\n      \"column\": [\n        \"heart\",\n        \"mean\"\n      ],\n      \"properties\": {\n        \"dtype\": \"number\",\n        \"std\": 0.0636323764824899,\n        \"min\": 109.40268700273748,\n        \"max\": 109.49267677256505,\n        \"num_unique_values\": 2,\n        \"samples\": [\n          109.49267677256505,\n          109.40268700273748\n        ],\n        \"semantic_type\": \"\",\n        \"description\": \"\"\n      }\n    }\n  ]\n}"
            }
          },
          "metadata": {},
          "execution_count": 42
        }
      ]
    },
    {
      "cell_type": "markdown",
      "metadata": {
        "id": "lEB6hFt9oM-u"
      },
      "source": [
        "This shows that people in the treatment group are on average older, exercise less, and have less muscle. In the next section, we control for those variables and see how they change our estimates.  "
      ]
    },
    {
      "cell_type": "markdown",
      "metadata": {
        "id": "FXT_TDLC4_jU"
      },
      "source": [
        "# Linear Regressions"
      ]
    },
    {
      "cell_type": "markdown",
      "metadata": {
        "id": "Ur1R0cVh2Uq9"
      },
      "source": [
        "In this section, run a set of linear regressions using the **OLS_estimate()** function, with the following additional covariates besides the lightning variable:\n",
        "\n",
        "*   Specification 1 (S1): exercise, age, gender, veg.\n",
        "*   Specification 2 (S2): include all variables.\n",
        "*   Specification 3 (S3): exercise, age, gender, stress, muscle.\n"
      ]
    },
    {
      "cell_type": "markdown",
      "metadata": {
        "id": "4hpeOM5HhItP"
      },
      "source": [
        "## Q2: What are the estimated ATEs from these three specifications?"
      ]
    },
    {
      "cell_type": "code",
      "metadata": {
        "id": "fyWI8AY0qxc1",
        "colab": {
          "base_uri": "https://localhost:8080/"
        },
        "outputId": "7d08d16a-bdfb-4e61-8cee-e38735ab0f75"
      },
      "source": [
        "# YOUR CODE HERE\n",
        "\n",
        "def OLS_estimate(outcome, covariates):\n",
        "    covariates = sm.add_constant(covariates) # adding a constant\n",
        "    model = OLS(outcome, covariates)\n",
        "    result = model.fit()\n",
        "    print(result.summary())\n",
        "\n",
        "OLS_estimate(df['speed'], df[['lightning', 'exercise', 'age', 'gender', 'veg']])"
      ],
      "execution_count": 43,
      "outputs": [
        {
          "output_type": "stream",
          "name": "stdout",
          "text": [
            "                            OLS Regression Results                            \n",
            "==============================================================================\n",
            "Dep. Variable:                  speed   R-squared:                       0.166\n",
            "Model:                            OLS   Adj. R-squared:                  0.165\n",
            "Method:                 Least Squares   F-statistic:                     793.3\n",
            "Date:                Thu, 23 May 2024   Prob (F-statistic):               0.00\n",
            "Time:                        19:08:41   Log-Likelihood:                -87345.\n",
            "No. Observations:               20000   AIC:                         1.747e+05\n",
            "Df Residuals:                   19994   BIC:                         1.747e+05\n",
            "Df Model:                           5                                         \n",
            "Covariance Type:            nonrobust                                         \n",
            "==============================================================================\n",
            "                 coef    std err          t      P>|t|      [0.025      0.975]\n",
            "------------------------------------------------------------------------------\n",
            "const        281.2140      0.514    546.888      0.000     280.206     282.222\n",
            "lightning      6.1555      0.325     18.966      0.000       5.519       6.792\n",
            "exercise       2.8286      0.049     58.100      0.000       2.733       2.924\n",
            "age           -0.1587      0.009    -17.129      0.000      -0.177      -0.141\n",
            "gender         2.8665      0.270     10.615      0.000       2.337       3.396\n",
            "veg            7.1253      0.327     21.793      0.000       6.484       7.766\n",
            "==============================================================================\n",
            "Omnibus:                     2122.476   Durbin-Watson:                   2.018\n",
            "Prob(Omnibus):                  0.000   Jarque-Bera (JB):              598.276\n",
            "Skew:                          -0.014   Prob(JB):                    1.22e-130\n",
            "Kurtosis:                       2.153   Cond. No.                         169.\n",
            "==============================================================================\n",
            "\n",
            "Notes:\n",
            "[1] Standard Errors assume that the covariance matrix of the errors is correctly specified.\n"
          ]
        }
      ]
    },
    {
      "cell_type": "code",
      "source": [
        "OLS_estimate(df['speed'], df[['lightning', 'exercise', 'age', 'gender', 'veg', 'stress', 'muscle', 'heart']])"
      ],
      "metadata": {
        "colab": {
          "base_uri": "https://localhost:8080/"
        },
        "id": "NiE7hkCNWT9y",
        "outputId": "bddb55a1-59c2-4a12-8777-bec4ef650d2f"
      },
      "execution_count": 44,
      "outputs": [
        {
          "output_type": "stream",
          "name": "stdout",
          "text": [
            "                            OLS Regression Results                            \n",
            "==============================================================================\n",
            "Dep. Variable:                  speed   R-squared:                       1.000\n",
            "Model:                            OLS   Adj. R-squared:                  1.000\n",
            "Method:                 Least Squares   F-statistic:                 1.774e+08\n",
            "Date:                Thu, 23 May 2024   Prob (F-statistic):               0.00\n",
            "Time:                        19:08:41   Log-Likelihood:                 22548.\n",
            "No. Observations:               20000   AIC:                        -4.508e+04\n",
            "Df Residuals:                   19991   BIC:                        -4.501e+04\n",
            "Df Model:                           8                                         \n",
            "Covariance Type:            nonrobust                                         \n",
            "==============================================================================\n",
            "                 coef    std err          t      P>|t|      [0.025      0.975]\n",
            "------------------------------------------------------------------------------\n",
            "const        183.2590      1.048    174.897      0.000     181.205     185.313\n",
            "lightning      5.6699      0.039    145.877      0.000       5.594       5.746\n",
            "exercise       1.8328      0.010    174.924      0.000       1.812       1.853\n",
            "age           -0.1221      0.001   -174.532      0.000      -0.124      -0.121\n",
            "gender         1.8322      0.011    173.857      0.000       1.812       1.853\n",
            "veg           -0.0002      0.001     -0.152      0.880      -0.003       0.003\n",
            "stress        -3.6651      0.021   -174.904      0.000      -3.706      -3.624\n",
            "muscle         1.8323      0.010    174.868      0.000       1.812       1.853\n",
            "heart          1.0701      0.010    111.416      0.000       1.051       1.089\n",
            "==============================================================================\n",
            "Omnibus:                        2.545   Durbin-Watson:                   1.993\n",
            "Prob(Omnibus):                  0.280   Jarque-Bera (JB):                2.518\n",
            "Skew:                          -0.013   Prob(JB):                        0.284\n",
            "Kurtosis:                       2.952   Cond. No.                     2.20e+05\n",
            "==============================================================================\n",
            "\n",
            "Notes:\n",
            "[1] Standard Errors assume that the covariance matrix of the errors is correctly specified.\n",
            "[2] The condition number is large, 2.2e+05. This might indicate that there are\n",
            "strong multicollinearity or other numerical problems.\n"
          ]
        }
      ]
    },
    {
      "cell_type": "code",
      "source": [
        "OLS_estimate(df['speed'], df[['lightning', 'exercise', 'age', 'gender', 'stress', 'muscle']])"
      ],
      "metadata": {
        "colab": {
          "base_uri": "https://localhost:8080/"
        },
        "id": "eC6o4qkqWgMb",
        "outputId": "21cabe10-03c9-4622-a401-3c224c985a70"
      },
      "execution_count": 45,
      "outputs": [
        {
          "output_type": "stream",
          "name": "stdout",
          "text": [
            "                            OLS Regression Results                            \n",
            "==============================================================================\n",
            "Dep. Variable:                  speed   R-squared:                       1.000\n",
            "Model:                            OLS   Adj. R-squared:                  1.000\n",
            "Method:                 Least Squares   F-statistic:                 1.459e+08\n",
            "Date:                Thu, 23 May 2024   Prob (F-statistic):               0.00\n",
            "Time:                        19:08:41   Log-Likelihood:                 17717.\n",
            "No. Observations:               20000   AIC:                        -3.542e+04\n",
            "Df Residuals:                   19993   BIC:                        -3.537e+04\n",
            "Df Model:                           6                                         \n",
            "Covariance Type:            nonrobust                                         \n",
            "==============================================================================\n",
            "                 coef    std err          t      P>|t|      [0.025      0.975]\n",
            "------------------------------------------------------------------------------\n",
            "const        300.0022      0.003   1.03e+05      0.000     299.997     300.008\n",
            "lightning      9.9977      0.002   5782.004      0.000       9.994      10.001\n",
            "exercise       2.9999      0.000   1.18e+04      0.000       2.999       3.000\n",
            "age           -0.2000   4.86e-05  -4111.411      0.000      -0.200      -0.200\n",
            "gender         2.9998      0.001   2125.223      0.000       2.997       3.003\n",
            "stress        -5.9998      0.000  -2.46e+04      0.000      -6.000      -5.999\n",
            "muscle         2.9996      0.000   1.21e+04      0.000       2.999       3.000\n",
            "==============================================================================\n",
            "Omnibus:                        2.868   Durbin-Watson:                   2.012\n",
            "Prob(Omnibus):                  0.238   Jarque-Bera (JB):                2.808\n",
            "Skew:                           0.010   Prob(JB):                        0.246\n",
            "Kurtosis:                       2.946   Cond. No.                         173.\n",
            "==============================================================================\n",
            "\n",
            "Notes:\n",
            "[1] Standard Errors assume that the covariance matrix of the errors is correctly specified.\n"
          ]
        }
      ]
    },
    {
      "cell_type": "markdown",
      "metadata": {
        "id": "hGfqfV5Tq4xf"
      },
      "source": [
        "As you can see from the results, apart from S3, which is our true model, S1 and S2 both severely under-estimate the true effect of 10, *even though the coefficeints are both statiscally significant (i.e. with extremely small p-value)*. This demonstrates the fact that even if the estimates are statistically significant and the R-squared score is nearly perfect, as in this case, it does not indicate we have obtained the unbiased estimates.\n",
        "\n",
        "\n",
        "This also demonstrates that including more variables do not necessarily reduce our biases. In S1, the result is under-estimated because we fail to control for some of the confounders such as stress and muscle. However, controlling for too many variables, such as in S2, is also wrong. What happened in S2 is that we have a **collider** in the data, where the heart rate is affected by both the outcome (i.e. speed) and the treatment variable (i.e. lightning). Controlling for the collider would lead to distorted associations between the treatment and outcome. For more details on this problem, see [collider](https://en.wikipedia.org/wiki/Collider_(statistics))).\n",
        "\n"
      ]
    },
    {
      "cell_type": "markdown",
      "metadata": {
        "id": "HSpI5K15jWnE"
      },
      "source": [
        "# Propensity Score Matching\n",
        "\n",
        "\n"
      ]
    },
    {
      "cell_type": "markdown",
      "metadata": {
        "id": "m-Tt1P0Iw36q"
      },
      "source": [
        "One method to tackle the problem is **propensity score matching (PSM)**. The idea is to reduce the biases by comparing outcomes between the treated and control subjects who have similar propensity to be treated (i.e. propensity scores). In this section, you will implement three types of matching: **(1) nearest-neighbor matching (2) stratification matching, and (3) inverse probability weighting (IPW) matching**.\n",
        "\n",
        "\n"
      ]
    },
    {
      "cell_type": "markdown",
      "metadata": {
        "id": "IEc9XZRXMY_V"
      },
      "source": [
        "The **gen_pscore()** function generates the propensity scores by performing a logistic regression. It also plots the distributions of generated propensity scores across the groups. We will use this function to generate the propensity scores using exercise, age, stress, gender, muscle and veg as covariates."
      ]
    },
    {
      "cell_type": "code",
      "metadata": {
        "id": "XYoXISyV17Kv",
        "colab": {
          "base_uri": "https://localhost:8080/",
          "height": 484
        },
        "outputId": "bd4f5421-a33c-4a56-d522-7b7e070db801"
      },
      "source": [
        "def gen_pscore(data, outcome, covariates):\n",
        "    model = sm.Logit(outcome, covariates)\n",
        "    result = model.fit()\n",
        "    data['pscore'] = result.predict(covariates)\n",
        "    data.groupby(['lightning']).pscore.plot(kind='hist', bins=20, alpha=0.8, legend=True)\n",
        "\n",
        "gen_pscore(df, df['lightning'], df[[ 'exercise', 'age', 'stress', 'gender', 'muscle', 'veg']] )"
      ],
      "execution_count": 46,
      "outputs": [
        {
          "output_type": "stream",
          "name": "stdout",
          "text": [
            "Optimization terminated successfully.\n",
            "         Current function value: 0.494720\n",
            "         Iterations 6\n"
          ]
        },
        {
          "output_type": "display_data",
          "data": {
            "text/plain": [
              "<Figure size 640x480 with 1 Axes>"
            ],
            "image/png": "[encoded data removed]"
          },
          "metadata": {}
        }
      ]
    },
    {
      "cell_type": "markdown",
      "metadata": {
        "id": "uLAK176N1qfp"
      },
      "source": [
        "The table below summarizes the distribution of the propensity scores for the two groups respectively."
      ]
    },
    {
      "cell_type": "code",
      "metadata": {
        "id": "myJ_3IX1GOeQ",
        "colab": {
          "base_uri": "https://localhost:8080/",
          "height": 143
        },
        "outputId": "c643c58b-4a03-4425-c23e-046036d8d8bd"
      },
      "source": [
        "df.groupby(['lightning']).pscore.describe()"
      ],
      "execution_count": 47,
      "outputs": [
        {
          "output_type": "execute_result",
          "data": {
            "text/plain": [
              "             count      mean       std       min       25%       50%  \\\n",
              "lightning                                                              \n",
              "0           7705.0  0.423451  0.240459  0.030010  0.218609  0.390982   \n",
              "1          12295.0  0.733850  0.215281  0.045984  0.610093  0.800415   \n",
              "\n",
              "                75%       max  \n",
              "lightning                      \n",
              "0          0.605314  0.987674  \n",
              "1          0.908284  0.991530  "
            ],
            "text/html": [
              "\n",
              "  <div id=\"df-563214fb-84e6-4c76-a01f-1db63124039c\" class=\"colab-df-container\">\n",
              "    <div>\n",
              "<style scoped>\n",
              "    .dataframe tbody tr th:only-of-type {\n",
              "        vertical-align: middle;\n",
              "    }\n",
              "\n",
              "    .dataframe tbody tr th {\n",
              "        vertical-align: top;\n",
              "    }\n",
              "\n",
              "    .dataframe thead th {\n",
              "        text-align: right;\n",
              "    }\n",
              "</style>\n",
              "<table border=\"1\" class=\"dataframe\">\n",
              "  <thead>\n",
              "    <tr style=\"text-align: right;\">\n",
              "      <th></th>\n",
              "      <th>count</th>\n",
              "      <th>mean</th>\n",
              "      <th>std</th>\n",
              "      <th>min</th>\n",
              "      <th>25%</th>\n",
              "      <th>50%</th>\n",
              "      <th>75%</th>\n",
              "      <th>max</th>\n",
              "    </tr>\n",
              "    <tr>\n",
              "      <th>lightning</th>\n",
              "      <th></th>\n",
              "      <th></th>\n",
              "      <th></th>\n",
              "      <th></th>\n",
              "      <th></th>\n",
              "      <th></th>\n",
              "      <th></th>\n",
              "      <th></th>\n",
              "    </tr>\n",
              "  </thead>\n",
              "  <tbody>\n",
              "    <tr>\n",
              "      <th>0</th>\n",
              "      <td>7705.0</td>\n",
              "      <td>0.423451</td>\n",
              "      <td>0.240459</td>\n",
              "      <td>0.030010</td>\n",
              "      <td>0.218609</td>\n",
              "      <td>0.390982</td>\n",
              "      <td>0.605314</td>\n",
              "      <td>0.987674</td>\n",
              "    </tr>\n",
              "    <tr>\n",
              "      <th>1</th>\n",
              "      <td>12295.0</td>\n",
              "      <td>0.733850</td>\n",
              "      <td>0.215281</td>\n",
              "      <td>0.045984</td>\n",
              "      <td>0.610093</td>\n",
              "      <td>0.800415</td>\n",
              "      <td>0.908284</td>\n",
              "      <td>0.991530</td>\n",
              "    </tr>\n",
              "  </tbody>\n",
              "</table>\n",
              "</div>\n",
              "    <div class=\"colab-df-buttons\">\n",
              "\n",
              "  <div class=\"colab-df-container\">\n",
              "    <button class=\"colab-df-convert\" onclick=\"convertToInteractive('df-563214fb-84e6-4c76-a01f-1db63124039c')\"\n",
              "            title=\"Convert this dataframe to an interactive table.\"\n",
              "            style=\"display:none;\">\n",
              "\n",
              "  <svg xmlns=\"http://www.w3.org/2000/svg\" height=\"24px\" viewBox=\"0 -960 960 960\">\n",
              "    <path d=\"M120-120v-720h720v720H120Zm60-500h600v-160H180v160Zm220 220h160v-160H400v160Zm0 220h160v-160H400v160ZM180-400h160v-160H180v160Zm440 0h160v-160H620v160ZM180-180h160v-160H180v160Zm440 0h160v-160H620v160Z\"/>\n",
              "  </svg>\n",
              "    </button>\n",
              "\n",
              "  <style>\n",
              "    .colab-df-container {\n",
              "      display:flex;\n",
              "      gap: 12px;\n",
              "    }\n",
              "\n",
              "    .colab-df-convert {\n",
              "      background-color: #E8F0FE;\n",
              "      border: none;\n",
              "      border-radius: 50%;\n",
              "      cursor: pointer;\n",
              "      display: none;\n",
              "      fill: #1967D2;\n",
              "      height: 32px;\n",
              "      padding: 0 0 0 0;\n",
              "      width: 32px;\n",
              "    }\n",
              "\n",
              "    .colab-df-convert:hover {\n",
              "      background-color: #E2EBFA;\n",
              "      box-shadow: 0px 1px 2px rgba(60, 64, 67, 0.3), 0px 1px 3px 1px rgba(60, 64, 67, 0.15);\n",
              "      fill: #174EA6;\n",
              "    }\n",
              "\n",
              "    .colab-df-buttons div {\n",
              "      margin-bottom: 4px;\n",
              "    }\n",
              "\n",
              "    [theme=dark] .colab-df-convert {\n",
              "      background-color: #3B4455;\n",
              "      fill: #D2E3FC;\n",
              "    }\n",
              "\n",
              "    [theme=dark] .colab-df-convert:hover {\n",
              "      background-color: #434B5C;\n",
              "      box-shadow: 0px 1px 3px 1px rgba(0, 0, 0, 0.15);\n",
              "      filter: drop-shadow(0px 1px 2px rgba(0, 0, 0, 0.3));\n",
              "      fill: #FFFFFF;\n",
              "    }\n",
              "  </style>\n",
              "\n",
              "    <script>\n",
              "      const buttonEl =\n",
              "        document.querySelector('#df-563214fb-84e6-4c76-a01f-1db63124039c button.colab-df-convert');\n",
              "      buttonEl.style.display =\n",
              "        google.colab.kernel.accessAllowed ? 'block' : 'none';\n",
              "\n",
              "      async function convertToInteractive(key) {\n",
              "        const element = document.querySelector('#df-563214fb-84e6-4c76-a01f-1db63124039c');\n",
              "        const dataTable =\n",
              "          await google.colab.kernel.invokeFunction('convertToInteractive',\n",
              "                                                    [key], {});\n",
              "        if (!dataTable) return;\n",
              "\n",
              "        const docLinkHtml = 'Like what you see? Visit the ' +\n",
              "          '<a target=\"_blank\" href=https://colab.research.google.com/notebooks/data_table.ipynb>data table notebook</a>'\n",
              "          + ' to learn more about interactive tables.';\n",
              "        element.innerHTML = '';\n",
              "        dataTable['output_type'] = 'display_data';\n",
              "        await google.colab.output.renderOutput(dataTable, element);\n",
              "        const docLink = document.createElement('div');\n",
              "        docLink.innerHTML = docLinkHtml;\n",
              "        element.appendChild(docLink);\n",
              "      }\n",
              "    </script>\n",
              "  </div>\n",
              "\n",
              "\n",
              "<div id=\"df-7eed9690-2d8f-4532-97fd-996fb21ef358\">\n",
              "  <button class=\"colab-df-quickchart\" onclick=\"quickchart('df-7eed9690-2d8f-4532-97fd-996fb21ef358')\"\n",
              "            title=\"Suggest charts\"\n",
              "            style=\"display:none;\">\n",
              "\n",
              "<svg xmlns=\"http://www.w3.org/2000/svg\" height=\"24px\"viewBox=\"0 0 24 24\"\n",
              "     width=\"24px\">\n",
              "    <g>\n",
              "        <path d=\"M19 3H5c-1.1 0-2 .9-2 2v14c0 1.1.9 2 2 2h14c1.1 0 2-.9 2-2V5c0-1.1-.9-2-2-2zM9 17H7v-7h2v7zm4 0h-2V7h2v10zm4 0h-2v-4h2v4z\"/>\n",
              "    </g>\n",
              "</svg>\n",
              "  </button>\n",
              "\n",
              "<style>\n",
              "  .colab-df-quickchart {\n",
              "      --bg-color: #E8F0FE;\n",
              "      --fill-color: #1967D2;\n",
              "      --hover-bg-color: #E2EBFA;\n",
              "      --hover-fill-color: #174EA6;\n",
              "      --disabled-fill-color: #AAA;\n",
              "      --disabled-bg-color: #DDD;\n",
              "  }\n",
              "\n",
              "  [theme=dark] .colab-df-quickchart {\n",
              "      --bg-color: #3B4455;\n",
              "      --fill-color: #D2E3FC;\n",
              "      --hover-bg-color: #434B5C;\n",
              "      --hover-fill-color: #FFFFFF;\n",
              "      --disabled-bg-color: #3B4455;\n",
              "      --disabled-fill-color: #666;\n",
              "  }\n",
              "\n",
              "  .colab-df-quickchart {\n",
              "    background-color: var(--bg-color);\n",
              "    border: none;\n",
              "    border-radius: 50%;\n",
              "    cursor: pointer;\n",
              "    display: none;\n",
              "    fill: var(--fill-color);\n",
              "    height: 32px;\n",
              "    padding: 0;\n",
              "    width: 32px;\n",
              "  }\n",
              "\n",
              "  .colab-df-quickchart:hover {\n",
              "    background-color: var(--hover-bg-color);\n",
              "    box-shadow: 0 1px 2px rgba(60, 64, 67, 0.3), 0 1px 3px 1px rgba(60, 64, 67, 0.15);\n",
              "    fill: var(--button-hover-fill-color);\n",
              "  }\n",
              "\n",
              "  .colab-df-quickchart-complete:disabled,\n",
              "  .colab-df-quickchart-complete:disabled:hover {\n",
              "    background-color: var(--disabled-bg-color);\n",
              "    fill: var(--disabled-fill-color);\n",
              "    box-shadow: none;\n",
              "  }\n",
              "\n",
              "  .colab-df-spinner {\n",
              "    border: 2px solid var(--fill-color);\n",
              "    border-color: transparent;\n",
              "    border-bottom-color: var(--fill-color);\n",
              "    animation:\n",
              "      spin 1s steps(1) infinite;\n",
              "  }\n",
              "\n",
              "  @keyframes spin {\n",
              "    0% {\n",
              "      border-color: transparent;\n",
              "      border-bottom-color: var(--fill-color);\n",
              "      border-left-color: var(--fill-color);\n",
              "    }\n",
              "    20% {\n",
              "      border-color: transparent;\n",
              "      border-left-color: var(--fill-color);\n",
              "      border-top-color: var(--fill-color);\n",
              "    }\n",
              "    30% {\n",
              "      border-color: transparent;\n",
              "      border-left-color: var(--fill-color);\n",
              "      border-top-color: var(--fill-color);\n",
              "      border-right-color: var(--fill-color);\n",
              "    }\n",
              "    40% {\n",
              "      border-color: transparent;\n",
              "      border-right-color: var(--fill-color);\n",
              "      border-top-color: var(--fill-color);\n",
              "    }\n",
              "    60% {\n",
              "      border-color: transparent;\n",
              "      border-right-color: var(--fill-color);\n",
              "    }\n",
              "    80% {\n",
              "      border-color: transparent;\n",
              "      border-right-color: var(--fill-color);\n",
              "      border-bottom-color: var(--fill-color);\n",
              "    }\n",
              "    90% {\n",
              "      border-color: transparent;\n",
              "      border-bottom-color: var(--fill-color);\n",
              "    }\n",
              "  }\n",
              "</style>\n",
              "\n",
              "  <script>\n",
              "    async function quickchart(key) {\n",
              "      const quickchartButtonEl =\n",
              "        document.querySelector('#' + key + ' button');\n",
              "      quickchartButtonEl.disabled = true;  // To prevent multiple clicks.\n",
              "      quickchartButtonEl.classList.add('colab-df-spinner');\n",
              "      try {\n",
              "        const charts = await google.colab.kernel.invokeFunction(\n",
              "            'suggestCharts', [key], {});\n",
              "      } catch (error) {\n",
              "        console.error('Error during call to suggestCharts:', error);\n",
              "      }\n",
              "      quickchartButtonEl.classList.remove('colab-df-spinner');\n",
              "      quickchartButtonEl.classList.add('colab-df-quickchart-complete');\n",
              "    }\n",
              "    (() => {\n",
              "      let quickchartButtonEl =\n",
              "        document.querySelector('#df-7eed9690-2d8f-4532-97fd-996fb21ef358 button');\n",
              "      quickchartButtonEl.style.display =\n",
              "        google.colab.kernel.accessAllowed ? 'block' : 'none';\n",
              "    })();\n",
              "  </script>\n",
              "</div>\n",
              "    </div>\n",
              "  </div>\n"
            ],
            "application/vnd.google.colaboratory.intrinsic+json": {
              "type": "dataframe",
              "summary": "{\n  \"name\": \"df\",\n  \"rows\": 2,\n  \"fields\": [\n    {\n      \"column\": \"lightning\",\n      \"properties\": {\n        \"dtype\": \"number\",\n        \"std\": 0,\n        \"min\": 0,\n        \"max\": 1,\n        \"num_unique_values\": 2,\n        \"samples\": [\n          1,\n          0\n        ],\n        \"semantic_type\": \"\",\n        \"description\": \"\"\n      }\n    },\n    {\n      \"column\": \"count\",\n      \"properties\": {\n        \"dtype\": \"number\",\n        \"std\": 3245.620125646253,\n        \"min\": 7705.0,\n        \"max\": 12295.0,\n        \"num_unique_values\": 2,\n        \"samples\": [\n          12295.0,\n          7705.0\n        ],\n        \"semantic_type\": \"\",\n        \"description\": \"\"\n      }\n    },\n    {\n      \"column\": \"mean\",\n      \"properties\": {\n        \"dtype\": \"number\",\n        \"std\": 0.21948522215544736,\n        \"min\": 0.42345111647818795,\n        \"max\": 0.7338500943908933,\n        \"num_unique_values\": 2,\n        \"samples\": [\n          0.7338500943908933,\n          0.42345111647818795\n        ],\n        \"semantic_type\": \"\",\n        \"description\": \"\"\n      }\n    },\n    {\n      \"column\": \"std\",\n      \"properties\": {\n        \"dtype\": \"number\",\n        \"std\": 0.017804195133033423,\n        \"min\": 0.2152805137503323,\n        \"max\": 0.24045944797460522,\n        \"num_unique_values\": 2,\n        \"samples\": [\n          0.2152805137503323,\n          0.24045944797460522\n        ],\n        \"semantic_type\": \"\",\n        \"description\": \"\"\n      }\n    },\n    {\n      \"column\": \"min\",\n      \"properties\": {\n        \"dtype\": \"number\",\n        \"std\": 0.011295021435777932,\n        \"min\": 0.030010311984203234,\n        \"max\": 0.045983884485975214,\n        \"num_unique_values\": 2,\n        \"samples\": [\n          0.045983884485975214,\n          0.030010311984203234\n        ],\n        \"semantic_type\": \"\",\n        \"description\": \"\"\n      }\n    },\n    {\n      \"column\": \"25%\",\n      \"properties\": {\n        \"dtype\": \"number\",\n        \"std\": 0.27682091131980413,\n        \"min\": 0.21860919563545228,\n        \"max\": 0.6100930827723992,\n        \"num_unique_values\": 2,\n        \"samples\": [\n          0.6100930827723992,\n          0.21860919563545228\n        ],\n        \"semantic_type\": \"\",\n        \"description\": \"\"\n      }\n    },\n    {\n      \"column\": \"50%\",\n      \"properties\": {\n        \"dtype\": \"number\",\n        \"std\": 0.2895130325989968,\n        \"min\": 0.390982072611361,\n        \"max\": 0.8004153297966262,\n        \"num_unique_values\": 2,\n        \"samples\": [\n          0.8004153297966262,\n          0.390982072611361\n        ],\n        \"semantic_type\": \"\",\n        \"description\": \"\"\n      }\n    },\n    {\n      \"column\": \"75%\",\n      \"properties\": {\n        \"dtype\": \"number\",\n        \"std\": 0.21423214707046093,\n        \"min\": 0.6053143746027415,\n        \"max\": 0.9082843824860949,\n        \"num_unique_values\": 2,\n        \"samples\": [\n          0.9082843824860949,\n          0.6053143746027415\n        ],\n        \"semantic_type\": \"\",\n        \"description\": \"\"\n      }\n    },\n    {\n      \"column\": \"max\",\n      \"properties\": {\n        \"dtype\": \"number\",\n        \"std\": 0.00272612496933518,\n        \"min\": 0.9876742254701821,\n        \"max\": 0.9915295483745399,\n        \"num_unique_values\": 2,\n        \"samples\": [\n          0.9915295483745399,\n          0.9876742254701821\n        ],\n        \"semantic_type\": \"\",\n        \"description\": \"\"\n      }\n    }\n  ]\n}"
            }
          },
          "metadata": {},
          "execution_count": 47
        }
      ]
    },
    {
      "cell_type": "markdown",
      "metadata": {
        "id": "XHy4QVVx6GfR"
      },
      "source": [
        "Notice that some scores lie outside of the common ranges. The **trim()** function below trims the sample such that the treatment and control group share the common support.\n"
      ]
    },
    {
      "cell_type": "code",
      "metadata": {
        "id": "5-nqDJCAFyBH",
        "colab": {
          "base_uri": "https://localhost:8080/",
          "height": 143
        },
        "outputId": "81596cf8-c36a-4823-df52-013b1aa8fe11"
      },
      "source": [
        "def trim(data):\n",
        "  control_data = data[data.lightning == 0]\n",
        "  treat_data = data[data.lightning == 1]\n",
        "\n",
        "  min_control, min_treat = control_data.pscore.min(), treat_data.pscore.min()\n",
        "  max_control, max_treat = control_data.pscore.max(), treat_data.pscore.max()\n",
        "\n",
        "  min_support = max(min_control, min_treat)\n",
        "  max_support = min(max_control, max_treat)\n",
        "\n",
        "  trim_data = data.loc[((data.pscore >= min_support) & (data.pscore <= max_support)),:]\n",
        "\n",
        "  return trim_data\n",
        "\n",
        "trim_df = trim(df)\n",
        "trim_df.groupby(['lightning']).pscore.describe()"
      ],
      "execution_count": 48,
      "outputs": [
        {
          "output_type": "execute_result",
          "data": {
            "text/plain": [
              "             count      mean       std       min       25%       50%  \\\n",
              "lightning                                                              \n",
              "0           7649.0  0.426261  0.239076  0.046159  0.222810  0.394638   \n",
              "1          12249.0  0.732892  0.215115  0.045984  0.609278  0.799496   \n",
              "\n",
              "                75%       max  \n",
              "lightning                      \n",
              "0          0.607522  0.987674  \n",
              "1          0.907157  0.987606  "
            ],
            "text/html": [
              "\n",
              "  <div id=\"df-596c4394-9f5a-4a70-a8b4-2a31059f62fd\" class=\"colab-df-container\">\n",
              "    <div>\n",
              "<style scoped>\n",
              "    .dataframe tbody tr th:only-of-type {\n",
              "        vertical-align: middle;\n",
              "    }\n",
              "\n",
              "    .dataframe tbody tr th {\n",
              "        vertical-align: top;\n",
              "    }\n",
              "\n",
              "    .dataframe thead th {\n",
              "        text-align: right;\n",
              "    }\n",
              "</style>\n",
              "<table border=\"1\" class=\"dataframe\">\n",
              "  <thead>\n",
              "    <tr style=\"text-align: right;\">\n",
              "      <th></th>\n",
              "      <th>count</th>\n",
              "      <th>mean</th>\n",
              "      <th>std</th>\n",
              "      <th>min</th>\n",
              "      <th>25%</th>\n",
              "      <th>50%</th>\n",
              "      <th>75%</th>\n",
              "      <th>max</th>\n",
              "    </tr>\n",
              "    <tr>\n",
              "      <th>lightning</th>\n",
              "      <th></th>\n",
              "      <th></th>\n",
              "      <th></th>\n",
              "      <th></th>\n",
              "      <th></th>\n",
              "      <th></th>\n",
              "      <th></th>\n",
              "      <th></th>\n",
              "    </tr>\n",
              "  </thead>\n",
              "  <tbody>\n",
              "    <tr>\n",
              "      <th>0</th>\n",
              "      <td>7649.0</td>\n",
              "      <td>0.426261</td>\n",
              "      <td>0.239076</td>\n",
              "      <td>0.046159</td>\n",
              "      <td>0.222810</td>\n",
              "      <td>0.394638</td>\n",
              "      <td>0.607522</td>\n",
              "      <td>0.987674</td>\n",
              "    </tr>\n",
              "    <tr>\n",
              "      <th>1</th>\n",
              "      <td>12249.0</td>\n",
              "      <td>0.732892</td>\n",
              "      <td>0.215115</td>\n",
              "      <td>0.045984</td>\n",
              "      <td>0.609278</td>\n",
              "      <td>0.799496</td>\n",
              "      <td>0.907157</td>\n",
              "      <td>0.987606</td>\n",
              "    </tr>\n",
              "  </tbody>\n",
              "</table>\n",
              "</div>\n",
              "    <div class=\"colab-df-buttons\">\n",
              "\n",
              "  <div class=\"colab-df-container\">\n",
              "    <button class=\"colab-df-convert\" onclick=\"convertToInteractive('df-596c4394-9f5a-4a70-a8b4-2a31059f62fd')\"\n",
              "            title=\"Convert this dataframe to an interactive table.\"\n",
              "            style=\"display:none;\">\n",
              "\n",
              "  <svg xmlns=\"http://www.w3.org/2000/svg\" height=\"24px\" viewBox=\"0 -960 960 960\">\n",
              "    <path d=\"M120-120v-720h720v720H120Zm60-500h600v-160H180v160Zm220 220h160v-160H400v160Zm0 220h160v-160H400v160ZM180-400h160v-160H180v160Zm440 0h160v-160H620v160ZM180-180h160v-160H180v160Zm440 0h160v-160H620v160Z\"/>\n",
              "  </svg>\n",
              "    </button>\n",
              "\n",
              "  <style>\n",
              "    .colab-df-container {\n",
              "      display:flex;\n",
              "      gap: 12px;\n",
              "    }\n",
              "\n",
              "    .colab-df-convert {\n",
              "      background-color: #E8F0FE;\n",
              "      border: none;\n",
              "      border-radius: 50%;\n",
              "      cursor: pointer;\n",
              "      display: none;\n",
              "      fill: #1967D2;\n",
              "      height: 32px;\n",
              "      padding: 0 0 0 0;\n",
              "      width: 32px;\n",
              "    }\n",
              "\n",
              "    .colab-df-convert:hover {\n",
              "      background-color: #E2EBFA;\n",
              "      box-shadow: 0px 1px 2px rgba(60, 64, 67, 0.3), 0px 1px 3px 1px rgba(60, 64, 67, 0.15);\n",
              "      fill: #174EA6;\n",
              "    }\n",
              "\n",
              "    .colab-df-buttons div {\n",
              "      margin-bottom: 4px;\n",
              "    }\n",
              "\n",
              "    [theme=dark] .colab-df-convert {\n",
              "      background-color: #3B4455;\n",
              "      fill: #D2E3FC;\n",
              "    }\n",
              "\n",
              "    [theme=dark] .colab-df-convert:hover {\n",
              "      background-color: #434B5C;\n",
              "      box-shadow: 0px 1px 3px 1px rgba(0, 0, 0, 0.15);\n",
              "      filter: drop-shadow(0px 1px 2px rgba(0, 0, 0, 0.3));\n",
              "      fill: #FFFFFF;\n",
              "    }\n",
              "  </style>\n",
              "\n",
              "    <script>\n",
              "      const buttonEl =\n",
              "        document.querySelector('#df-596c4394-9f5a-4a70-a8b4-2a31059f62fd button.colab-df-convert');\n",
              "      buttonEl.style.display =\n",
              "        google.colab.kernel.accessAllowed ? 'block' : 'none';\n",
              "\n",
              "      async function convertToInteractive(key) {\n",
              "        const element = document.querySelector('#df-596c4394-9f5a-4a70-a8b4-2a31059f62fd');\n",
              "        const dataTable =\n",
              "          await google.colab.kernel.invokeFunction('convertToInteractive',\n",
              "                                                    [key], {});\n",
              "        if (!dataTable) return;\n",
              "\n",
              "        const docLinkHtml = 'Like what you see? Visit the ' +\n",
              "          '<a target=\"_blank\" href=https://colab.research.google.com/notebooks/data_table.ipynb>data table notebook</a>'\n",
              "          + ' to learn more about interactive tables.';\n",
              "        element.innerHTML = '';\n",
              "        dataTable['output_type'] = 'display_data';\n",
              "        await google.colab.output.renderOutput(dataTable, element);\n",
              "        const docLink = document.createElement('div');\n",
              "        docLink.innerHTML = docLinkHtml;\n",
              "        element.appendChild(docLink);\n",
              "      }\n",
              "    </script>\n",
              "  </div>\n",
              "\n",
              "\n",
              "<div id=\"df-abe7ceff-07b5-4b55-be84-62ce85a98167\">\n",
              "  <button class=\"colab-df-quickchart\" onclick=\"quickchart('df-abe7ceff-07b5-4b55-be84-62ce85a98167')\"\n",
              "            title=\"Suggest charts\"\n",
              "            style=\"display:none;\">\n",
              "\n",
              "<svg xmlns=\"http://www.w3.org/2000/svg\" height=\"24px\"viewBox=\"0 0 24 24\"\n",
              "     width=\"24px\">\n",
              "    <g>\n",
              "        <path d=\"M19 3H5c-1.1 0-2 .9-2 2v14c0 1.1.9 2 2 2h14c1.1 0 2-.9 2-2V5c0-1.1-.9-2-2-2zM9 17H7v-7h2v7zm4 0h-2V7h2v10zm4 0h-2v-4h2v4z\"/>\n",
              "    </g>\n",
              "</svg>\n",
              "  </button>\n",
              "\n",
              "<style>\n",
              "  .colab-df-quickchart {\n",
              "      --bg-color: #E8F0FE;\n",
              "      --fill-color: #1967D2;\n",
              "      --hover-bg-color: #E2EBFA;\n",
              "      --hover-fill-color: #174EA6;\n",
              "      --disabled-fill-color: #AAA;\n",
              "      --disabled-bg-color: #DDD;\n",
              "  }\n",
              "\n",
              "  [theme=dark] .colab-df-quickchart {\n",
              "      --bg-color: #3B4455;\n",
              "      --fill-color: #D2E3FC;\n",
              "      --hover-bg-color: #434B5C;\n",
              "      --hover-fill-color: #FFFFFF;\n",
              "      --disabled-bg-color: #3B4455;\n",
              "      --disabled-fill-color: #666;\n",
              "  }\n",
              "\n",
              "  .colab-df-quickchart {\n",
              "    background-color: var(--bg-color);\n",
              "    border: none;\n",
              "    border-radius: 50%;\n",
              "    cursor: pointer;\n",
              "    display: none;\n",
              "    fill: var(--fill-color);\n",
              "    height: 32px;\n",
              "    padding: 0;\n",
              "    width: 32px;\n",
              "  }\n",
              "\n",
              "  .colab-df-quickchart:hover {\n",
              "    background-color: var(--hover-bg-color);\n",
              "    box-shadow: 0 1px 2px rgba(60, 64, 67, 0.3), 0 1px 3px 1px rgba(60, 64, 67, 0.15);\n",
              "    fill: var(--button-hover-fill-color);\n",
              "  }\n",
              "\n",
              "  .colab-df-quickchart-complete:disabled,\n",
              "  .colab-df-quickchart-complete:disabled:hover {\n",
              "    background-color: var(--disabled-bg-color);\n",
              "    fill: var(--disabled-fill-color);\n",
              "    box-shadow: none;\n",
              "  }\n",
              "\n",
              "  .colab-df-spinner {\n",
              "    border: 2px solid var(--fill-color);\n",
              "    border-color: transparent;\n",
              "    border-bottom-color: var(--fill-color);\n",
              "    animation:\n",
              "      spin 1s steps(1) infinite;\n",
              "  }\n",
              "\n",
              "  @keyframes spin {\n",
              "    0% {\n",
              "      border-color: transparent;\n",
              "      border-bottom-color: var(--fill-color);\n",
              "      border-left-color: var(--fill-color);\n",
              "    }\n",
              "    20% {\n",
              "      border-color: transparent;\n",
              "      border-left-color: var(--fill-color);\n",
              "      border-top-color: var(--fill-color);\n",
              "    }\n",
              "    30% {\n",
              "      border-color: transparent;\n",
              "      border-left-color: var(--fill-color);\n",
              "      border-top-color: var(--fill-color);\n",
              "      border-right-color: var(--fill-color);\n",
              "    }\n",
              "    40% {\n",
              "      border-color: transparent;\n",
              "      border-right-color: var(--fill-color);\n",
              "      border-top-color: var(--fill-color);\n",
              "    }\n",
              "    60% {\n",
              "      border-color: transparent;\n",
              "      border-right-color: var(--fill-color);\n",
              "    }\n",
              "    80% {\n",
              "      border-color: transparent;\n",
              "      border-right-color: var(--fill-color);\n",
              "      border-bottom-color: var(--fill-color);\n",
              "    }\n",
              "    90% {\n",
              "      border-color: transparent;\n",
              "      border-bottom-color: var(--fill-color);\n",
              "    }\n",
              "  }\n",
              "</style>\n",
              "\n",
              "  <script>\n",
              "    async function quickchart(key) {\n",
              "      const quickchartButtonEl =\n",
              "        document.querySelector('#' + key + ' button');\n",
              "      quickchartButtonEl.disabled = true;  // To prevent multiple clicks.\n",
              "      quickchartButtonEl.classList.add('colab-df-spinner');\n",
              "      try {\n",
              "        const charts = await google.colab.kernel.invokeFunction(\n",
              "            'suggestCharts', [key], {});\n",
              "      } catch (error) {\n",
              "        console.error('Error during call to suggestCharts:', error);\n",
              "      }\n",
              "      quickchartButtonEl.classList.remove('colab-df-spinner');\n",
              "      quickchartButtonEl.classList.add('colab-df-quickchart-complete');\n",
              "    }\n",
              "    (() => {\n",
              "      let quickchartButtonEl =\n",
              "        document.querySelector('#df-abe7ceff-07b5-4b55-be84-62ce85a98167 button');\n",
              "      quickchartButtonEl.style.display =\n",
              "        google.colab.kernel.accessAllowed ? 'block' : 'none';\n",
              "    })();\n",
              "  </script>\n",
              "</div>\n",
              "    </div>\n",
              "  </div>\n"
            ],
            "application/vnd.google.colaboratory.intrinsic+json": {
              "type": "dataframe",
              "summary": "{\n  \"name\": \"trim_df\",\n  \"rows\": 2,\n  \"fields\": [\n    {\n      \"column\": \"lightning\",\n      \"properties\": {\n        \"dtype\": \"number\",\n        \"std\": 0,\n        \"min\": 0,\n        \"max\": 1,\n        \"num_unique_values\": 2,\n        \"samples\": [\n          1,\n          0\n        ],\n        \"semantic_type\": \"\",\n        \"description\": \"\"\n      }\n    },\n    {\n      \"column\": \"count\",\n      \"properties\": {\n        \"dtype\": \"number\",\n        \"std\": 3252.6911934581185,\n        \"min\": 7649.0,\n        \"max\": 12249.0,\n        \"num_unique_values\": 2,\n        \"samples\": [\n          12249.0,\n          7649.0\n        ],\n        \"semantic_type\": \"\",\n        \"description\": \"\"\n      }\n    },\n    {\n      \"column\": \"mean\",\n      \"properties\": {\n        \"dtype\": \"number\",\n        \"std\": 0.21682065111585128,\n        \"min\": 0.42626107979541905,\n        \"max\": 0.732891785206021,\n        \"num_unique_values\": 2,\n        \"samples\": [\n          0.732891785206021,\n          0.42626107979541905\n        ],\n        \"semantic_type\": \"\",\n        \"description\": \"\"\n      }\n    },\n    {\n      \"column\": \"std\",\n      \"properties\": {\n        \"dtype\": \"number\",\n        \"std\": 0.016943510249332796,\n        \"min\": 0.21511456725605194,\n        \"max\": 0.23907630924486592,\n        \"num_unique_values\": 2,\n        \"samples\": [\n          0.21511456725605194,\n          0.23907630924486592\n        ],\n        \"semantic_type\": \"\",\n        \"description\": \"\"\n      }\n    },\n    {\n      \"column\": \"min\",\n      \"properties\": {\n        \"dtype\": \"number\",\n        \"std\": 0.0001241479744718699,\n        \"min\": 0.045983884485975214,\n        \"max\": 0.04615945623521448,\n        \"num_unique_values\": 2,\n        \"samples\": [\n          0.045983884485975214,\n          0.04615945623521448\n        ],\n        \"semantic_type\": \"\",\n        \"description\": \"\"\n      }\n    },\n    {\n      \"column\": \"25%\",\n      \"properties\": {\n        \"dtype\": \"number\",\n        \"std\": 0.2732738721754776,\n        \"min\": 0.22281048377001336,\n        \"max\": 0.6092781000427854,\n        \"num_unique_values\": 2,\n        \"samples\": [\n          0.6092781000427854,\n          0.22281048377001336\n        ],\n        \"semantic_type\": \"\",\n        \"description\": \"\"\n      }\n    },\n    {\n      \"column\": \"50%\",\n      \"properties\": {\n        \"dtype\": \"number\",\n        \"std\": 0.28627808683965816,\n        \"min\": 0.394638068936496,\n        \"max\": 0.7994964219553632,\n        \"num_unique_values\": 2,\n        \"samples\": [\n          0.7994964219553632,\n          0.394638068936496\n        ],\n        \"semantic_type\": \"\",\n        \"description\": \"\"\n      }\n    },\n    {\n      \"column\": \"75%\",\n      \"properties\": {\n        \"dtype\": \"number\",\n        \"std\": 0.21187445763093077,\n        \"min\": 0.6075216797482946,\n        \"max\": 0.9071574112504006,\n        \"num_unique_values\": 2,\n        \"samples\": [\n          0.9071574112504006,\n          0.6075216797482946\n        ],\n        \"semantic_type\": \"\",\n        \"description\": \"\"\n      }\n    },\n    {\n      \"column\": \"max\",\n      \"properties\": {\n        \"dtype\": \"number\",\n        \"std\": 4.829727211351263e-05,\n        \"min\": 0.9876059228129336,\n        \"max\": 0.9876742254701821,\n        \"num_unique_values\": 2,\n        \"samples\": [\n          0.9876059228129336,\n          0.9876742254701821\n        ],\n        \"semantic_type\": \"\",\n        \"description\": \"\"\n      }\n    }\n  ]\n}"
            }
          },
          "metadata": {},
          "execution_count": 48
        }
      ]
    },
    {
      "cell_type": "markdown",
      "metadata": {
        "id": "9_x4bHbF562R"
      },
      "source": [
        "## Q3: Perform Nearest-Neighbor Matching and report the ATE estimate with 3 decimal places."
      ]
    },
    {
      "cell_type": "markdown",
      "metadata": {
        "id": "q3NOgFpnOHAp"
      },
      "source": [
        "The function **Nearest_Neighbor_Pair()** below finds one control unit that has the nearest propensity score for each treatment unit (with replacement), and returns a dataframe that contains only the control units that are matched.\n",
        "\n",
        "Use this function to compute the average treatment effect by calculating the mean of the differences in outcomes between the treated and controlled for each pair. Remember to use the trimmed data."
      ]
    },
    {
      "cell_type": "code",
      "metadata": {
        "id": "f1b5KXNkOGCX"
      },
      "source": [
        "def Nearest_Neighbor_Pair(treated_df, non_treated_df):\n",
        "    treated_x = treated_df['pscore'].values\n",
        "    non_treated_x = non_treated_df['pscore'].values\n",
        "\n",
        "    nbrs = NearestNeighbors(n_neighbors=1).fit(np.expand_dims(non_treated_x, axis=1))\n",
        "    distances, indices = nbrs.kneighbors(np.expand_dims(treated_x, axis=1))\n",
        "    indices = indices.reshape(indices.shape[0])\n",
        "    matched = non_treated_df.iloc[indices]\n",
        "    return matched\n"
      ],
      "execution_count": 49,
      "outputs": []
    },
    {
      "cell_type": "code",
      "metadata": {
        "id": "MlEDwyLQwt38",
        "colab": {
          "base_uri": "https://localhost:8080/"
        },
        "outputId": "a844f8a7-78ad-483a-d4aa-549f60e2bcc3"
      },
      "source": [
        "# YOUR CODE HERE\n",
        "\n",
        "treated_df = trim_df[trim_df['lightning'] == 1]\n",
        "non_treated_df = trim_df[trim_df['lightning'] == 0]\n",
        "\n",
        "matched_control_df = Nearest_Neighbor_Pair(treated_df, non_treated_df)\n",
        "\n",
        "treated_outcomes = treated_df['speed'].values\n",
        "matched_control_outcomes = matched_control_df['speed'].values\n",
        "\n",
        "ate = np.mean(treated_outcomes - matched_control_outcomes)\n",
        "print(f\"Estimated ATE: {ate:.3f}\")"
      ],
      "execution_count": 50,
      "outputs": [
        {
          "output_type": "stream",
          "name": "stdout",
          "text": [
            "Estimated ATE: 9.952\n"
          ]
        }
      ]
    },
    {
      "cell_type": "markdown",
      "metadata": {
        "id": "rHgbkqH38_qP"
      },
      "source": [
        "Note that what we have obtained is actually the **Average Treatment Effect on the Treated (ATT)**, since we are matching on the treated units. By doing so, we are implicitly assuming that the control unit we have picked as counterpart for each treated unit is a good approximation of what the outcome of the treated unit would be if it were not treated.\n",
        "\n",
        "In fact, the ATT does not necessarily have to be the same as ATE or ATU  (the average treatment effect on the untreated). **Since the true effect is constant across all the samples (i.e. constant treatment effect), the ATT is equal to ATE in this particular case.**  \n"
      ]
    },
    {
      "cell_type": "markdown",
      "metadata": {
        "id": "KgavCag-1abz"
      },
      "source": [
        "## Q4: Perform stratification matching and report the estimate with 3 decimal places."
      ]
    },
    {
      "cell_type": "markdown",
      "metadata": {
        "id": "aME3dOGd1yxB"
      },
      "source": [
        "Perform a stratification matching with 10 equally spaced stratas, where strata = 1 if pscore is in (0, 0.1], strata = 2 if pscore is in (0,1, 0.2] and so on. Report the average treatment effect on the treated (ATT) using the following formula:\n",
        "\n",
        "$ATT_{strata} = \\sum_{s = 1}^{s = 10} \\frac{N^T_s}{N^T} (\\bar{Y}^{T}_s - \\bar{Y}^C_s)$\n",
        "\n",
        "where\n",
        "$N^T$ is the number of treated in the whole sample, $N^T_s$ is the number of treated units in strata $s$, $\\bar{Y}^{T}_s - \\bar{Y}^C_s$ is the difference in sample averages of outcomes between the treated and control within strata $s$. Remember to use the trimmed data.\n",
        "\n",
        "\n",
        "\n",
        "\n",
        "\n",
        "\n",
        "\n"
      ]
    },
    {
      "cell_type": "code",
      "metadata": {
        "id": "FvcRLR_YKnvK",
        "colab": {
          "base_uri": "https://localhost:8080/"
        },
        "outputId": "1a3f3a1b-4379-43e7-fd30-a5f40a7fe5e0"
      },
      "source": [
        "# YOUR CODE HERE\n",
        "trim_df\n",
        "\n",
        "trim_df['strata'] = pd.cut(trim_df['pscore'], bins=np.linspace(0, 1, 11), labels=False) + 1\n",
        "\n",
        "def calculate_att_per_stratum(df, strata):\n",
        "    att_per_stratum = []\n",
        "    N_T = df[df['lightning'] == 1].shape[0]  # Total number of treated units\n",
        "\n",
        "    for s in range(1, strata + 1):\n",
        "        stratum_df = df[df['strata'] == s]\n",
        "        N_Ts = stratum_df[stratum_df['lightning'] == 1].shape[0]\n",
        "\n",
        "        if N_Ts > 0:\n",
        "            Y_Ts = stratum_df[stratum_df['lightning'] == 1]['speed'].mean()\n",
        "            Y_Cs = stratum_df[stratum_df['lightning'] == 0]['speed'].mean()\n",
        "            att_s = (N_Ts / N_T) * (Y_Ts - Y_Cs)\n",
        "            att_per_stratum.append(att_s)\n",
        "\n",
        "    return np.sum(att_per_stratum)\n",
        "\n",
        "calculate_att_per_stratum(trim_df, 10)\n"
      ],
      "execution_count": 56,
      "outputs": [
        {
          "output_type": "execute_result",
          "data": {
            "text/plain": [
              "9.163319951194497"
            ]
          },
          "metadata": {},
          "execution_count": 56
        }
      ]
    },
    {
      "cell_type": "markdown",
      "metadata": {
        "id": "M_b1KOWp9FDa"
      },
      "source": [
        "## Q5: Perform Inverse Probability Weighted (IPW) Matching  and report the estimate in 3 decimal places.  "
      ]
    },
    {
      "cell_type": "markdown",
      "metadata": {
        "id": "4Cs4MqpSims5"
      },
      "source": [
        "We can also estimate the treament effect using the **Inverse Probability Weighted (IPW) Matching** method. The ATT from IPW matching is calculated as follows:\n",
        "\n",
        "$ATT_{IPW} = \\frac{1}{n}\\sum_{i}\\frac{T_i Y_i}{p_i} - \\frac{1}{n}\\sum_{i}\\frac{(1-T_i) Y_i}{1-p_i}$\n",
        "\n",
        "where $T_i$ is 1 if i is treated, and 0 if not. $Y_i$ is the outcome of individual $i$ and $p_i$ is the propensity score for individual $i$.\n",
        "\n",
        "Compute the ATT from IPW matching."
      ]
    },
    {
      "cell_type": "code",
      "metadata": {
        "id": "zdXxVcPDlBkH",
        "colab": {
          "base_uri": "https://localhost:8080/"
        },
        "outputId": "2da39978-1f6f-4a8f-fab5-73d08ef409a1"
      },
      "source": [
        "# YOUR CODE HERE\n",
        "\n",
        "treated = trim_df[trim_df['lightning'] == 1]\n",
        "control = trim_df[trim_df['lightning'] == 0]\n",
        "\n",
        "# Calculate the ATT using the provided formula\n",
        "n = len(trim_df)\n",
        "ATT_IPW = (1 / n) * (np.sum(treated['speed'] / treated['pscore']) - np.sum(control['speed'] / (1 - control['pscore'])))\n",
        "\n",
        "print(f\"Estimated ATT from IPW Matching: {ATT_IPW:.3f}\")"
      ],
      "execution_count": 57,
      "outputs": [
        {
          "output_type": "stream",
          "name": "stdout",
          "text": [
            "Estimated ATT from IPW Matching: 12.928\n"
          ]
        }
      ]
    },
    {
      "cell_type": "markdown",
      "metadata": {
        "id": "DuUwpRczvE1d"
      },
      "source": [
        "In practice, you do not need to do all the estimations from scratch. There are various libraries/packages that implement these methods for you. For instance, check out the [causalinference](https://causalinferenceinpython.org/causalinference.html#module-causalinference.causal) package if you are interested."
      ]
    },
    {
      "cell_type": "markdown",
      "metadata": {
        "id": "NxBLMo0LfJwd"
      },
      "source": [
        "Once you obtained the desired results, **head over to Gradescope and submit your solution for this Colab**!"
      ]
    }
  ]
}